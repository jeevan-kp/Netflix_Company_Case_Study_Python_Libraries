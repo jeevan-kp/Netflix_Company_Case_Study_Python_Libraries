{
 "cells": [
  {
   "cell_type": "markdown",
   "id": "0a954a16",
   "metadata": {},
   "source": [
    "**Importing the libraries**"
   ]
  },
  {
   "cell_type": "code",
   "execution_count": 1,
   "id": "bbb2858b",
   "metadata": {},
   "outputs": [],
   "source": [
    "import numpy as np\n",
    "import pandas as pd\n",
    "import matplotlib.pyplot as plt\n",
    "import seaborn as sns"
   ]
  },
  {
   "cell_type": "markdown",
   "id": "b688a9b0",
   "metadata": {},
   "source": [
    "**Loading the dataset**"
   ]
  },
  {
   "cell_type": "code",
   "execution_count": 2,
   "id": "ab8881ce",
   "metadata": {},
   "outputs": [],
   "source": [
    "df = pd.read_csv(\"netflix.csv\")"
   ]
  },
  {
   "cell_type": "markdown",
   "id": "77154973",
   "metadata": {},
   "source": [
    "**Checking the dataset**"
   ]
  },
  {
   "cell_type": "code",
   "execution_count": 3,
   "id": "78caa1ad",
   "metadata": {},
   "outputs": [
    {
     "data": {
      "text/html": [
       "<div>\n",
       "<style scoped>\n",
       "    .dataframe tbody tr th:only-of-type {\n",
       "        vertical-align: middle;\n",
       "    }\n",
       "\n",
       "    .dataframe tbody tr th {\n",
       "        vertical-align: top;\n",
       "    }\n",
       "\n",
       "    .dataframe thead th {\n",
       "        text-align: right;\n",
       "    }\n",
       "</style>\n",
       "<table border=\"1\" class=\"dataframe\">\n",
       "  <thead>\n",
       "    <tr style=\"text-align: right;\">\n",
       "      <th></th>\n",
       "      <th>show_id</th>\n",
       "      <th>type</th>\n",
       "      <th>title</th>\n",
       "      <th>director</th>\n",
       "      <th>cast</th>\n",
       "      <th>country</th>\n",
       "      <th>date_added</th>\n",
       "      <th>release_year</th>\n",
       "      <th>rating</th>\n",
       "      <th>duration</th>\n",
       "      <th>listed_in</th>\n",
       "      <th>description</th>\n",
       "    </tr>\n",
       "  </thead>\n",
       "  <tbody>\n",
       "    <tr>\n",
       "      <th>0</th>\n",
       "      <td>s1</td>\n",
       "      <td>Movie</td>\n",
       "      <td>Dick Johnson Is Dead</td>\n",
       "      <td>Kirsten Johnson</td>\n",
       "      <td>NaN</td>\n",
       "      <td>United States</td>\n",
       "      <td>September 25, 2021</td>\n",
       "      <td>2020</td>\n",
       "      <td>PG-13</td>\n",
       "      <td>90 min</td>\n",
       "      <td>Documentaries</td>\n",
       "      <td>As her father nears the end of his life, filmm...</td>\n",
       "    </tr>\n",
       "    <tr>\n",
       "      <th>1</th>\n",
       "      <td>s2</td>\n",
       "      <td>TV Show</td>\n",
       "      <td>Blood &amp; Water</td>\n",
       "      <td>NaN</td>\n",
       "      <td>Ama Qamata, Khosi Ngema, Gail Mabalane, Thaban...</td>\n",
       "      <td>South Africa</td>\n",
       "      <td>September 24, 2021</td>\n",
       "      <td>2021</td>\n",
       "      <td>TV-MA</td>\n",
       "      <td>2 Seasons</td>\n",
       "      <td>International TV Shows, TV Dramas, TV Mysteries</td>\n",
       "      <td>After crossing paths at a party, a Cape Town t...</td>\n",
       "    </tr>\n",
       "    <tr>\n",
       "      <th>2</th>\n",
       "      <td>s3</td>\n",
       "      <td>TV Show</td>\n",
       "      <td>Ganglands</td>\n",
       "      <td>Julien Leclercq</td>\n",
       "      <td>Sami Bouajila, Tracy Gotoas, Samuel Jouy, Nabi...</td>\n",
       "      <td>NaN</td>\n",
       "      <td>September 24, 2021</td>\n",
       "      <td>2021</td>\n",
       "      <td>TV-MA</td>\n",
       "      <td>1 Season</td>\n",
       "      <td>Crime TV Shows, International TV Shows, TV Act...</td>\n",
       "      <td>To protect his family from a powerful drug lor...</td>\n",
       "    </tr>\n",
       "    <tr>\n",
       "      <th>3</th>\n",
       "      <td>s4</td>\n",
       "      <td>TV Show</td>\n",
       "      <td>Jailbirds New Orleans</td>\n",
       "      <td>NaN</td>\n",
       "      <td>NaN</td>\n",
       "      <td>NaN</td>\n",
       "      <td>September 24, 2021</td>\n",
       "      <td>2021</td>\n",
       "      <td>TV-MA</td>\n",
       "      <td>1 Season</td>\n",
       "      <td>Docuseries, Reality TV</td>\n",
       "      <td>Feuds, flirtations and toilet talk go down amo...</td>\n",
       "    </tr>\n",
       "    <tr>\n",
       "      <th>4</th>\n",
       "      <td>s5</td>\n",
       "      <td>TV Show</td>\n",
       "      <td>Kota Factory</td>\n",
       "      <td>NaN</td>\n",
       "      <td>Mayur More, Jitendra Kumar, Ranjan Raj, Alam K...</td>\n",
       "      <td>India</td>\n",
       "      <td>September 24, 2021</td>\n",
       "      <td>2021</td>\n",
       "      <td>TV-MA</td>\n",
       "      <td>2 Seasons</td>\n",
       "      <td>International TV Shows, Romantic TV Shows, TV ...</td>\n",
       "      <td>In a city of coaching centers known to train I...</td>\n",
       "    </tr>\n",
       "    <tr>\n",
       "      <th>5</th>\n",
       "      <td>s6</td>\n",
       "      <td>TV Show</td>\n",
       "      <td>Midnight Mass</td>\n",
       "      <td>Mike Flanagan</td>\n",
       "      <td>Kate Siegel, Zach Gilford, Hamish Linklater, H...</td>\n",
       "      <td>NaN</td>\n",
       "      <td>September 24, 2021</td>\n",
       "      <td>2021</td>\n",
       "      <td>TV-MA</td>\n",
       "      <td>1 Season</td>\n",
       "      <td>TV Dramas, TV Horror, TV Mysteries</td>\n",
       "      <td>The arrival of a charismatic young priest brin...</td>\n",
       "    </tr>\n",
       "    <tr>\n",
       "      <th>6</th>\n",
       "      <td>s7</td>\n",
       "      <td>Movie</td>\n",
       "      <td>My Little Pony: A New Generation</td>\n",
       "      <td>Robert Cullen, José Luis Ucha</td>\n",
       "      <td>Vanessa Hudgens, Kimiko Glenn, James Marsden, ...</td>\n",
       "      <td>NaN</td>\n",
       "      <td>September 24, 2021</td>\n",
       "      <td>2021</td>\n",
       "      <td>PG</td>\n",
       "      <td>91 min</td>\n",
       "      <td>Children &amp; Family Movies</td>\n",
       "      <td>Equestria's divided. But a bright-eyed hero be...</td>\n",
       "    </tr>\n",
       "    <tr>\n",
       "      <th>7</th>\n",
       "      <td>s8</td>\n",
       "      <td>Movie</td>\n",
       "      <td>Sankofa</td>\n",
       "      <td>Haile Gerima</td>\n",
       "      <td>Kofi Ghanaba, Oyafunmike Ogunlano, Alexandra D...</td>\n",
       "      <td>United States, Ghana, Burkina Faso, United Kin...</td>\n",
       "      <td>September 24, 2021</td>\n",
       "      <td>1993</td>\n",
       "      <td>TV-MA</td>\n",
       "      <td>125 min</td>\n",
       "      <td>Dramas, Independent Movies, International Movies</td>\n",
       "      <td>On a photo shoot in Ghana, an American model s...</td>\n",
       "    </tr>\n",
       "    <tr>\n",
       "      <th>8</th>\n",
       "      <td>s9</td>\n",
       "      <td>TV Show</td>\n",
       "      <td>The Great British Baking Show</td>\n",
       "      <td>Andy Devonshire</td>\n",
       "      <td>Mel Giedroyc, Sue Perkins, Mary Berry, Paul Ho...</td>\n",
       "      <td>United Kingdom</td>\n",
       "      <td>September 24, 2021</td>\n",
       "      <td>2021</td>\n",
       "      <td>TV-14</td>\n",
       "      <td>9 Seasons</td>\n",
       "      <td>British TV Shows, Reality TV</td>\n",
       "      <td>A talented batch of amateur bakers face off in...</td>\n",
       "    </tr>\n",
       "    <tr>\n",
       "      <th>9</th>\n",
       "      <td>s10</td>\n",
       "      <td>Movie</td>\n",
       "      <td>The Starling</td>\n",
       "      <td>Theodore Melfi</td>\n",
       "      <td>Melissa McCarthy, Chris O'Dowd, Kevin Kline, T...</td>\n",
       "      <td>United States</td>\n",
       "      <td>September 24, 2021</td>\n",
       "      <td>2021</td>\n",
       "      <td>PG-13</td>\n",
       "      <td>104 min</td>\n",
       "      <td>Comedies, Dramas</td>\n",
       "      <td>A woman adjusting to life after a loss contend...</td>\n",
       "    </tr>\n",
       "  </tbody>\n",
       "</table>\n",
       "</div>"
      ],
      "text/plain": [
       "  show_id     type                             title  \\\n",
       "0      s1    Movie              Dick Johnson Is Dead   \n",
       "1      s2  TV Show                     Blood & Water   \n",
       "2      s3  TV Show                         Ganglands   \n",
       "3      s4  TV Show             Jailbirds New Orleans   \n",
       "4      s5  TV Show                      Kota Factory   \n",
       "5      s6  TV Show                     Midnight Mass   \n",
       "6      s7    Movie  My Little Pony: A New Generation   \n",
       "7      s8    Movie                           Sankofa   \n",
       "8      s9  TV Show     The Great British Baking Show   \n",
       "9     s10    Movie                      The Starling   \n",
       "\n",
       "                        director  \\\n",
       "0                Kirsten Johnson   \n",
       "1                            NaN   \n",
       "2                Julien Leclercq   \n",
       "3                            NaN   \n",
       "4                            NaN   \n",
       "5                  Mike Flanagan   \n",
       "6  Robert Cullen, José Luis Ucha   \n",
       "7                   Haile Gerima   \n",
       "8                Andy Devonshire   \n",
       "9                 Theodore Melfi   \n",
       "\n",
       "                                                cast  \\\n",
       "0                                                NaN   \n",
       "1  Ama Qamata, Khosi Ngema, Gail Mabalane, Thaban...   \n",
       "2  Sami Bouajila, Tracy Gotoas, Samuel Jouy, Nabi...   \n",
       "3                                                NaN   \n",
       "4  Mayur More, Jitendra Kumar, Ranjan Raj, Alam K...   \n",
       "5  Kate Siegel, Zach Gilford, Hamish Linklater, H...   \n",
       "6  Vanessa Hudgens, Kimiko Glenn, James Marsden, ...   \n",
       "7  Kofi Ghanaba, Oyafunmike Ogunlano, Alexandra D...   \n",
       "8  Mel Giedroyc, Sue Perkins, Mary Berry, Paul Ho...   \n",
       "9  Melissa McCarthy, Chris O'Dowd, Kevin Kline, T...   \n",
       "\n",
       "                                             country          date_added  \\\n",
       "0                                      United States  September 25, 2021   \n",
       "1                                       South Africa  September 24, 2021   \n",
       "2                                                NaN  September 24, 2021   \n",
       "3                                                NaN  September 24, 2021   \n",
       "4                                              India  September 24, 2021   \n",
       "5                                                NaN  September 24, 2021   \n",
       "6                                                NaN  September 24, 2021   \n",
       "7  United States, Ghana, Burkina Faso, United Kin...  September 24, 2021   \n",
       "8                                     United Kingdom  September 24, 2021   \n",
       "9                                      United States  September 24, 2021   \n",
       "\n",
       "   release_year rating   duration  \\\n",
       "0          2020  PG-13     90 min   \n",
       "1          2021  TV-MA  2 Seasons   \n",
       "2          2021  TV-MA   1 Season   \n",
       "3          2021  TV-MA   1 Season   \n",
       "4          2021  TV-MA  2 Seasons   \n",
       "5          2021  TV-MA   1 Season   \n",
       "6          2021     PG     91 min   \n",
       "7          1993  TV-MA    125 min   \n",
       "8          2021  TV-14  9 Seasons   \n",
       "9          2021  PG-13    104 min   \n",
       "\n",
       "                                           listed_in  \\\n",
       "0                                      Documentaries   \n",
       "1    International TV Shows, TV Dramas, TV Mysteries   \n",
       "2  Crime TV Shows, International TV Shows, TV Act...   \n",
       "3                             Docuseries, Reality TV   \n",
       "4  International TV Shows, Romantic TV Shows, TV ...   \n",
       "5                 TV Dramas, TV Horror, TV Mysteries   \n",
       "6                           Children & Family Movies   \n",
       "7   Dramas, Independent Movies, International Movies   \n",
       "8                       British TV Shows, Reality TV   \n",
       "9                                   Comedies, Dramas   \n",
       "\n",
       "                                         description  \n",
       "0  As her father nears the end of his life, filmm...  \n",
       "1  After crossing paths at a party, a Cape Town t...  \n",
       "2  To protect his family from a powerful drug lor...  \n",
       "3  Feuds, flirtations and toilet talk go down amo...  \n",
       "4  In a city of coaching centers known to train I...  \n",
       "5  The arrival of a charismatic young priest brin...  \n",
       "6  Equestria's divided. But a bright-eyed hero be...  \n",
       "7  On a photo shoot in Ghana, an American model s...  \n",
       "8  A talented batch of amateur bakers face off in...  \n",
       "9  A woman adjusting to life after a loss contend...  "
      ]
     },
     "execution_count": 3,
     "metadata": {},
     "output_type": "execute_result"
    }
   ],
   "source": [
    "df.head(10)"
   ]
  },
  {
   "cell_type": "markdown",
   "id": "74fb006c",
   "metadata": {},
   "source": [
    "***\n",
    "# Problem Statement and Analysing basic metrics \n",
    "\n",
    "### <u>Problem Statement:</u> \n",
    "We clearly state the business problem we intend to solve. In this case, it is about helping Netflix decide which type of shows/movies to produce and how they can grow the business in different countries. We will ensure each recommendation is backed by data so that the company takes data-driven decisions, not on personal opinions or anecdotes. We will be presenting our findings to business executives who have only a basic understanding of data science, so we will avoid unnecessary technical jargon.\n",
    "\n",
    "### <u>Analysing basic metrics:</u>\n",
    "1. What type of content is available in different countries?\n",
    "2. How has the number of movies released per year changed over the last 20-30 years?\n",
    "3. Find the counts of each categorical variable both using graphical and nongraphical analysis.\n",
    "4. Comparison of tv shows vs. movies.\n",
    "5. What is the best time to launch a movie or a TV show?\n",
    "6. Analysis of actors/directors of different types of shows/movies.\n",
    "7. Does Netflix has more focus on TV Shows than movies in recent years\n",
    "8. Understanding what content is available in different countries\n",
    "9. Which genre movies are more popular or produced more\n",
    "10. After how many days the movie will be added to Netflix after the release of the movie.\n"
   ]
  },
  {
   "cell_type": "markdown",
   "id": "4f8cf36a",
   "metadata": {},
   "source": [
    "***\n",
    "# Basic Analysis of the Data - EDA\n",
    "\n",
    "1. **Shape of data** - There are 8807 rows and 12 columns in the data\n",
    "2. **Missing values** - There are few missing values in some of the columns\n",
    "3. **Datatypes of all attributes** - 11 columns are containing string values, and 1 column is having integer values.\n",
    "4. **Statistical information** - Getting general statistical information about the data.\n",
    "5. **Missing value detection** - We have identified missing values below."
   ]
  },
  {
   "cell_type": "code",
   "execution_count": 4,
   "id": "9cfa6869",
   "metadata": {},
   "outputs": [
    {
     "name": "stdout",
     "output_type": "stream",
     "text": [
      "<class 'pandas.core.frame.DataFrame'>\n",
      "RangeIndex: 8807 entries, 0 to 8806\n",
      "Data columns (total 12 columns):\n",
      " #   Column        Non-Null Count  Dtype \n",
      "---  ------        --------------  ----- \n",
      " 0   show_id       8807 non-null   object\n",
      " 1   type          8807 non-null   object\n",
      " 2   title         8807 non-null   object\n",
      " 3   director      6173 non-null   object\n",
      " 4   cast          7982 non-null   object\n",
      " 5   country       7976 non-null   object\n",
      " 6   date_added    8797 non-null   object\n",
      " 7   release_year  8807 non-null   int64 \n",
      " 8   rating        8803 non-null   object\n",
      " 9   duration      8804 non-null   object\n",
      " 10  listed_in     8807 non-null   object\n",
      " 11  description   8807 non-null   object\n",
      "dtypes: int64(1), object(11)\n",
      "memory usage: 825.8+ KB\n"
     ]
    }
   ],
   "source": [
    "df.info()"
   ]
  },
  {
   "cell_type": "markdown",
   "id": "acae3e57",
   "metadata": {},
   "source": [
    "### Getting the shape of data\n",
    "\n",
    "**Our data contains 8807 rows and 12 columns.**"
   ]
  },
  {
   "cell_type": "code",
   "execution_count": 5,
   "id": "b2b1ece2",
   "metadata": {},
   "outputs": [
    {
     "data": {
      "text/plain": [
       "(8807, 12)"
      ]
     },
     "execution_count": 5,
     "metadata": {},
     "output_type": "execute_result"
    }
   ],
   "source": [
    "df.shape"
   ]
  },
  {
   "cell_type": "markdown",
   "id": "b2d2d8b3",
   "metadata": {},
   "source": [
    "### Getting statistical information on the integer column \"release_year\" of our data"
   ]
  },
  {
   "cell_type": "code",
   "execution_count": 6,
   "id": "c61cdd2f",
   "metadata": {},
   "outputs": [
    {
     "data": {
      "text/html": [
       "<div>\n",
       "<style scoped>\n",
       "    .dataframe tbody tr th:only-of-type {\n",
       "        vertical-align: middle;\n",
       "    }\n",
       "\n",
       "    .dataframe tbody tr th {\n",
       "        vertical-align: top;\n",
       "    }\n",
       "\n",
       "    .dataframe thead th {\n",
       "        text-align: right;\n",
       "    }\n",
       "</style>\n",
       "<table border=\"1\" class=\"dataframe\">\n",
       "  <thead>\n",
       "    <tr style=\"text-align: right;\">\n",
       "      <th></th>\n",
       "      <th>release_year</th>\n",
       "    </tr>\n",
       "  </thead>\n",
       "  <tbody>\n",
       "    <tr>\n",
       "      <th>count</th>\n",
       "      <td>8807.000000</td>\n",
       "    </tr>\n",
       "    <tr>\n",
       "      <th>mean</th>\n",
       "      <td>2014.180198</td>\n",
       "    </tr>\n",
       "    <tr>\n",
       "      <th>std</th>\n",
       "      <td>8.819312</td>\n",
       "    </tr>\n",
       "    <tr>\n",
       "      <th>min</th>\n",
       "      <td>1925.000000</td>\n",
       "    </tr>\n",
       "    <tr>\n",
       "      <th>25%</th>\n",
       "      <td>2013.000000</td>\n",
       "    </tr>\n",
       "    <tr>\n",
       "      <th>50%</th>\n",
       "      <td>2017.000000</td>\n",
       "    </tr>\n",
       "    <tr>\n",
       "      <th>75%</th>\n",
       "      <td>2019.000000</td>\n",
       "    </tr>\n",
       "    <tr>\n",
       "      <th>max</th>\n",
       "      <td>2021.000000</td>\n",
       "    </tr>\n",
       "  </tbody>\n",
       "</table>\n",
       "</div>"
      ],
      "text/plain": [
       "       release_year\n",
       "count   8807.000000\n",
       "mean    2014.180198\n",
       "std        8.819312\n",
       "min     1925.000000\n",
       "25%     2013.000000\n",
       "50%     2017.000000\n",
       "75%     2019.000000\n",
       "max     2021.000000"
      ]
     },
     "execution_count": 6,
     "metadata": {},
     "output_type": "execute_result"
    }
   ],
   "source": [
    "df.describe()"
   ]
  },
  {
   "cell_type": "markdown",
   "id": "775701bd",
   "metadata": {},
   "source": [
    "### Getting statistical information on 11 non-integer columns of our data"
   ]
  },
  {
   "cell_type": "code",
   "execution_count": 7,
   "id": "00a66e3c",
   "metadata": {},
   "outputs": [
    {
     "data": {
      "text/html": [
       "<div>\n",
       "<style scoped>\n",
       "    .dataframe tbody tr th:only-of-type {\n",
       "        vertical-align: middle;\n",
       "    }\n",
       "\n",
       "    .dataframe tbody tr th {\n",
       "        vertical-align: top;\n",
       "    }\n",
       "\n",
       "    .dataframe thead th {\n",
       "        text-align: right;\n",
       "    }\n",
       "</style>\n",
       "<table border=\"1\" class=\"dataframe\">\n",
       "  <thead>\n",
       "    <tr style=\"text-align: right;\">\n",
       "      <th></th>\n",
       "      <th>show_id</th>\n",
       "      <th>type</th>\n",
       "      <th>title</th>\n",
       "      <th>director</th>\n",
       "      <th>cast</th>\n",
       "      <th>country</th>\n",
       "      <th>date_added</th>\n",
       "      <th>rating</th>\n",
       "      <th>duration</th>\n",
       "      <th>listed_in</th>\n",
       "      <th>description</th>\n",
       "    </tr>\n",
       "  </thead>\n",
       "  <tbody>\n",
       "    <tr>\n",
       "      <th>count</th>\n",
       "      <td>8807</td>\n",
       "      <td>8807</td>\n",
       "      <td>8807</td>\n",
       "      <td>6173</td>\n",
       "      <td>7982</td>\n",
       "      <td>7976</td>\n",
       "      <td>8797</td>\n",
       "      <td>8803</td>\n",
       "      <td>8804</td>\n",
       "      <td>8807</td>\n",
       "      <td>8807</td>\n",
       "    </tr>\n",
       "    <tr>\n",
       "      <th>unique</th>\n",
       "      <td>8807</td>\n",
       "      <td>2</td>\n",
       "      <td>8807</td>\n",
       "      <td>4528</td>\n",
       "      <td>7692</td>\n",
       "      <td>748</td>\n",
       "      <td>1767</td>\n",
       "      <td>17</td>\n",
       "      <td>220</td>\n",
       "      <td>514</td>\n",
       "      <td>8775</td>\n",
       "    </tr>\n",
       "    <tr>\n",
       "      <th>top</th>\n",
       "      <td>s1</td>\n",
       "      <td>Movie</td>\n",
       "      <td>Dick Johnson Is Dead</td>\n",
       "      <td>Rajiv Chilaka</td>\n",
       "      <td>David Attenborough</td>\n",
       "      <td>United States</td>\n",
       "      <td>January 1, 2020</td>\n",
       "      <td>TV-MA</td>\n",
       "      <td>1 Season</td>\n",
       "      <td>Dramas, International Movies</td>\n",
       "      <td>Paranormal activity at a lush, abandoned prope...</td>\n",
       "    </tr>\n",
       "    <tr>\n",
       "      <th>freq</th>\n",
       "      <td>1</td>\n",
       "      <td>6131</td>\n",
       "      <td>1</td>\n",
       "      <td>19</td>\n",
       "      <td>19</td>\n",
       "      <td>2818</td>\n",
       "      <td>109</td>\n",
       "      <td>3207</td>\n",
       "      <td>1793</td>\n",
       "      <td>362</td>\n",
       "      <td>4</td>\n",
       "    </tr>\n",
       "  </tbody>\n",
       "</table>\n",
       "</div>"
      ],
      "text/plain": [
       "       show_id   type                 title       director  \\\n",
       "count     8807   8807                  8807           6173   \n",
       "unique    8807      2                  8807           4528   \n",
       "top         s1  Movie  Dick Johnson Is Dead  Rajiv Chilaka   \n",
       "freq         1   6131                     1             19   \n",
       "\n",
       "                      cast        country       date_added rating  duration  \\\n",
       "count                 7982           7976             8797   8803      8804   \n",
       "unique                7692            748             1767     17       220   \n",
       "top     David Attenborough  United States  January 1, 2020  TV-MA  1 Season   \n",
       "freq                    19           2818              109   3207      1793   \n",
       "\n",
       "                           listed_in  \\\n",
       "count                           8807   \n",
       "unique                           514   \n",
       "top     Dramas, International Movies   \n",
       "freq                             362   \n",
       "\n",
       "                                              description  \n",
       "count                                                8807  \n",
       "unique                                               8775  \n",
       "top     Paranormal activity at a lush, abandoned prope...  \n",
       "freq                                                    4  "
      ]
     },
     "execution_count": 7,
     "metadata": {},
     "output_type": "execute_result"
    }
   ],
   "source": [
    "df.describe(include = \"object\")"
   ]
  },
  {
   "cell_type": "markdown",
   "id": "5922306c",
   "metadata": {},
   "source": [
    "### Detecting missing values"
   ]
  },
  {
   "cell_type": "code",
   "execution_count": 8,
   "id": "920af08e",
   "metadata": {},
   "outputs": [
    {
     "data": {
      "text/plain": [
       "show_id            0\n",
       "type               0\n",
       "title              0\n",
       "director        2634\n",
       "cast             825\n",
       "country          831\n",
       "date_added        10\n",
       "release_year       0\n",
       "rating             4\n",
       "duration           3\n",
       "listed_in          0\n",
       "description        0\n",
       "dtype: int64"
      ]
     },
     "execution_count": 8,
     "metadata": {},
     "output_type": "execute_result"
    }
   ],
   "source": [
    "df.isnull().sum()"
   ]
  },
  {
   "cell_type": "markdown",
   "id": "ece18880",
   "metadata": {},
   "source": [
    "***\n",
    "# Un-nesting the dataset\n",
    "\n",
    "### <u>Un-nesting the \"director\" column</u>\n",
    "\n",
    "What does the following do?\n",
    "\n",
    "1. **constraint = df['director'].apply(lambda x: str(x).split(', ')).tolist():** This line applies a lambda function to the \"director\" column of the DataFrame df. This lambda function takes each entry in the \"director\" column, converts it to a string (with str(x)), and then splits it by ', ' (a comma followed by a space) to create a list of director names. The .apply() function essentially applies this lambda function to each cell in the \"director\" column. The result is a list of lists where each inner list contains the director names for a movie.\n",
    "\n",
    "2. **df_director = pd.DataFrame(constraint, index=df['title']):** This line creates a new DataFrame called \"df_director\" using the constraint list created in the previous step as data. It sets the index of this new DataFrame to the \"title\" column of the original DataFrame df.\n",
    "\n",
    "3. **df_director = df_director.stack():** This line \"stacks\" the DataFrame, essentially converting it from a multi-level DataFrame into a single-level Series. This operation makes it easier to manipulate the data.\n",
    "\n",
    "4. **df_director = pd.DataFrame(df_director):** This line converts the Series obtained from the previous step back into a DataFrame.\n",
    "\n",
    "5. **df_director.reset_index(inplace = True):** This line resets the index of the DataFrame. It effectively removes the \"title\" column from the index and adds it as a regular column in the DataFrame. The inplace = True argument means that this operation modifies the DataFrame in place rather than creating a new DataFrame.\n",
    "\n",
    "6. **df_director = df_director[['title', 0]]:** This line selects only the \"title\" and 0-th column from the DataFrame. The 0-th column contains the director names.\n",
    "\n",
    "7. **df_director.columns = ['title', 'director']:** This line renames the columns of the DataFrame to \"title\" and \"director\", providing more descriptive column names.\n",
    "\n",
    "**In summary, this code takes our original DataFrame with the \"director\" column, where directors are stored as comma-separated strings, and converts it into a new DataFrame with two columns: \"title\" and \"director\". Each row of this new DataFrame contains a single director for a particular movie, and any movies with multiple directors will have multiple rows in the resulting DataFrame.**"
   ]
  },
  {
   "cell_type": "code",
   "execution_count": 9,
   "id": "6d53635c",
   "metadata": {},
   "outputs": [
    {
     "data": {
      "text/html": [
       "<div>\n",
       "<style scoped>\n",
       "    .dataframe tbody tr th:only-of-type {\n",
       "        vertical-align: middle;\n",
       "    }\n",
       "\n",
       "    .dataframe tbody tr th {\n",
       "        vertical-align: top;\n",
       "    }\n",
       "\n",
       "    .dataframe thead th {\n",
       "        text-align: right;\n",
       "    }\n",
       "</style>\n",
       "<table border=\"1\" class=\"dataframe\">\n",
       "  <thead>\n",
       "    <tr style=\"text-align: right;\">\n",
       "      <th></th>\n",
       "      <th>title</th>\n",
       "      <th>director</th>\n",
       "    </tr>\n",
       "  </thead>\n",
       "  <tbody>\n",
       "    <tr>\n",
       "      <th>0</th>\n",
       "      <td>Dick Johnson Is Dead</td>\n",
       "      <td>Kirsten Johnson</td>\n",
       "    </tr>\n",
       "    <tr>\n",
       "      <th>1</th>\n",
       "      <td>Blood &amp; Water</td>\n",
       "      <td>nan</td>\n",
       "    </tr>\n",
       "    <tr>\n",
       "      <th>2</th>\n",
       "      <td>Ganglands</td>\n",
       "      <td>Julien Leclercq</td>\n",
       "    </tr>\n",
       "    <tr>\n",
       "      <th>3</th>\n",
       "      <td>Jailbirds New Orleans</td>\n",
       "      <td>nan</td>\n",
       "    </tr>\n",
       "    <tr>\n",
       "      <th>4</th>\n",
       "      <td>Kota Factory</td>\n",
       "      <td>nan</td>\n",
       "    </tr>\n",
       "    <tr>\n",
       "      <th>...</th>\n",
       "      <td>...</td>\n",
       "      <td>...</td>\n",
       "    </tr>\n",
       "    <tr>\n",
       "      <th>9607</th>\n",
       "      <td>Zodiac</td>\n",
       "      <td>David Fincher</td>\n",
       "    </tr>\n",
       "    <tr>\n",
       "      <th>9608</th>\n",
       "      <td>Zombie Dumb</td>\n",
       "      <td>nan</td>\n",
       "    </tr>\n",
       "    <tr>\n",
       "      <th>9609</th>\n",
       "      <td>Zombieland</td>\n",
       "      <td>Ruben Fleischer</td>\n",
       "    </tr>\n",
       "    <tr>\n",
       "      <th>9610</th>\n",
       "      <td>Zoom</td>\n",
       "      <td>Peter Hewitt</td>\n",
       "    </tr>\n",
       "    <tr>\n",
       "      <th>9611</th>\n",
       "      <td>Zubaan</td>\n",
       "      <td>Mozez Singh</td>\n",
       "    </tr>\n",
       "  </tbody>\n",
       "</table>\n",
       "<p>9612 rows × 2 columns</p>\n",
       "</div>"
      ],
      "text/plain": [
       "                      title         director\n",
       "0      Dick Johnson Is Dead  Kirsten Johnson\n",
       "1             Blood & Water              nan\n",
       "2                 Ganglands  Julien Leclercq\n",
       "3     Jailbirds New Orleans              nan\n",
       "4              Kota Factory              nan\n",
       "...                     ...              ...\n",
       "9607                 Zodiac    David Fincher\n",
       "9608            Zombie Dumb              nan\n",
       "9609             Zombieland  Ruben Fleischer\n",
       "9610                   Zoom     Peter Hewitt\n",
       "9611                 Zubaan      Mozez Singh\n",
       "\n",
       "[9612 rows x 2 columns]"
      ]
     },
     "execution_count": 9,
     "metadata": {},
     "output_type": "execute_result"
    }
   ],
   "source": [
    "constraint = df['director'].apply(lambda x: str(x).split(', ')).tolist()\n",
    "df_director = pd.DataFrame(constraint, index = df['title'])\n",
    "df_director = df_director.stack()\n",
    "df_director = pd.DataFrame(df_director)\n",
    "df_director.reset_index(inplace = True)\n",
    "df_director = df_director[['title', 0]]\n",
    "df_director.columns = ['title','director']\n",
    "df_director"
   ]
  },
  {
   "cell_type": "markdown",
   "id": "99c52544",
   "metadata": {},
   "source": [
    "### <u>Un-nesting the \"cast\" column</u> \n",
    "\n",
    "**Just like above code, this code takes our original DataFrame with the \"cast\" column, where casts are stored as comma-separated strings, and converts it into a new DataFrame with two columns: \"title\" and \"cast\". Each row of this new DataFrame contains a single cast for a particular movie, and any movies with multiple casts will have multiple rows in the resulting DataFrame.**"
   ]
  },
  {
   "cell_type": "code",
   "execution_count": 10,
   "id": "73436d95",
   "metadata": {},
   "outputs": [
    {
     "data": {
      "text/html": [
       "<div>\n",
       "<style scoped>\n",
       "    .dataframe tbody tr th:only-of-type {\n",
       "        vertical-align: middle;\n",
       "    }\n",
       "\n",
       "    .dataframe tbody tr th {\n",
       "        vertical-align: top;\n",
       "    }\n",
       "\n",
       "    .dataframe thead th {\n",
       "        text-align: right;\n",
       "    }\n",
       "</style>\n",
       "<table border=\"1\" class=\"dataframe\">\n",
       "  <thead>\n",
       "    <tr style=\"text-align: right;\">\n",
       "      <th></th>\n",
       "      <th>title</th>\n",
       "      <th>cast</th>\n",
       "    </tr>\n",
       "  </thead>\n",
       "  <tbody>\n",
       "    <tr>\n",
       "      <th>0</th>\n",
       "      <td>Dick Johnson Is Dead</td>\n",
       "      <td>nan</td>\n",
       "    </tr>\n",
       "    <tr>\n",
       "      <th>1</th>\n",
       "      <td>Blood &amp; Water</td>\n",
       "      <td>Ama Qamata</td>\n",
       "    </tr>\n",
       "    <tr>\n",
       "      <th>2</th>\n",
       "      <td>Blood &amp; Water</td>\n",
       "      <td>Khosi Ngema</td>\n",
       "    </tr>\n",
       "    <tr>\n",
       "      <th>3</th>\n",
       "      <td>Blood &amp; Water</td>\n",
       "      <td>Gail Mabalane</td>\n",
       "    </tr>\n",
       "    <tr>\n",
       "      <th>4</th>\n",
       "      <td>Blood &amp; Water</td>\n",
       "      <td>Thabang Molaba</td>\n",
       "    </tr>\n",
       "    <tr>\n",
       "      <th>...</th>\n",
       "      <td>...</td>\n",
       "      <td>...</td>\n",
       "    </tr>\n",
       "    <tr>\n",
       "      <th>64946</th>\n",
       "      <td>Zubaan</td>\n",
       "      <td>Manish Chaudhary</td>\n",
       "    </tr>\n",
       "    <tr>\n",
       "      <th>64947</th>\n",
       "      <td>Zubaan</td>\n",
       "      <td>Meghna Malik</td>\n",
       "    </tr>\n",
       "    <tr>\n",
       "      <th>64948</th>\n",
       "      <td>Zubaan</td>\n",
       "      <td>Malkeet Rauni</td>\n",
       "    </tr>\n",
       "    <tr>\n",
       "      <th>64949</th>\n",
       "      <td>Zubaan</td>\n",
       "      <td>Anita Shabdish</td>\n",
       "    </tr>\n",
       "    <tr>\n",
       "      <th>64950</th>\n",
       "      <td>Zubaan</td>\n",
       "      <td>Chittaranjan Tripathy</td>\n",
       "    </tr>\n",
       "  </tbody>\n",
       "</table>\n",
       "<p>64951 rows × 2 columns</p>\n",
       "</div>"
      ],
      "text/plain": [
       "                      title                   cast\n",
       "0      Dick Johnson Is Dead                    nan\n",
       "1             Blood & Water             Ama Qamata\n",
       "2             Blood & Water            Khosi Ngema\n",
       "3             Blood & Water          Gail Mabalane\n",
       "4             Blood & Water         Thabang Molaba\n",
       "...                     ...                    ...\n",
       "64946                Zubaan       Manish Chaudhary\n",
       "64947                Zubaan           Meghna Malik\n",
       "64948                Zubaan          Malkeet Rauni\n",
       "64949                Zubaan         Anita Shabdish\n",
       "64950                Zubaan  Chittaranjan Tripathy\n",
       "\n",
       "[64951 rows x 2 columns]"
      ]
     },
     "execution_count": 10,
     "metadata": {},
     "output_type": "execute_result"
    }
   ],
   "source": [
    "constraint = df[\"cast\"].apply(lambda x: str(x).split(\", \")).tolist()\n",
    "df_cast = pd.DataFrame(constraint, index = df[\"title\"])\n",
    "df_cast = df_cast.stack()\n",
    "df_cast = pd.DataFrame(df_cast)\n",
    "df_cast.reset_index(inplace = True)\n",
    "df_cast = df_cast[[\"title\", 0]]\n",
    "df_cast.columns = [\"title\", \"cast\"]\n",
    "df_cast"
   ]
  },
  {
   "cell_type": "markdown",
   "id": "e4e5d073",
   "metadata": {},
   "source": [
    "### <u>Un-nesting the \"country\" column</u> \n",
    "\n",
    "**Just like above code, this code takes our original DataFrame with the \"country\" column, where countries are stored as comma-separated strings, and converts it into a new DataFrame with two columns: \"title\" and \"country\". Each row of this new DataFrame contains a single country for a particular movie, and any movies with multiple countries will have multiple rows in the resulting DataFrame.**"
   ]
  },
  {
   "cell_type": "code",
   "execution_count": 11,
   "id": "f28decd3",
   "metadata": {},
   "outputs": [
    {
     "data": {
      "text/html": [
       "<div>\n",
       "<style scoped>\n",
       "    .dataframe tbody tr th:only-of-type {\n",
       "        vertical-align: middle;\n",
       "    }\n",
       "\n",
       "    .dataframe tbody tr th {\n",
       "        vertical-align: top;\n",
       "    }\n",
       "\n",
       "    .dataframe thead th {\n",
       "        text-align: right;\n",
       "    }\n",
       "</style>\n",
       "<table border=\"1\" class=\"dataframe\">\n",
       "  <thead>\n",
       "    <tr style=\"text-align: right;\">\n",
       "      <th></th>\n",
       "      <th>title</th>\n",
       "      <th>country</th>\n",
       "    </tr>\n",
       "  </thead>\n",
       "  <tbody>\n",
       "    <tr>\n",
       "      <th>0</th>\n",
       "      <td>Dick Johnson Is Dead</td>\n",
       "      <td>United States</td>\n",
       "    </tr>\n",
       "    <tr>\n",
       "      <th>1</th>\n",
       "      <td>Blood &amp; Water</td>\n",
       "      <td>South Africa</td>\n",
       "    </tr>\n",
       "    <tr>\n",
       "      <th>2</th>\n",
       "      <td>Ganglands</td>\n",
       "      <td>nan</td>\n",
       "    </tr>\n",
       "    <tr>\n",
       "      <th>3</th>\n",
       "      <td>Jailbirds New Orleans</td>\n",
       "      <td>nan</td>\n",
       "    </tr>\n",
       "    <tr>\n",
       "      <th>4</th>\n",
       "      <td>Kota Factory</td>\n",
       "      <td>India</td>\n",
       "    </tr>\n",
       "    <tr>\n",
       "      <th>...</th>\n",
       "      <td>...</td>\n",
       "      <td>...</td>\n",
       "    </tr>\n",
       "    <tr>\n",
       "      <th>10840</th>\n",
       "      <td>Zodiac</td>\n",
       "      <td>United States</td>\n",
       "    </tr>\n",
       "    <tr>\n",
       "      <th>10841</th>\n",
       "      <td>Zombie Dumb</td>\n",
       "      <td>nan</td>\n",
       "    </tr>\n",
       "    <tr>\n",
       "      <th>10842</th>\n",
       "      <td>Zombieland</td>\n",
       "      <td>United States</td>\n",
       "    </tr>\n",
       "    <tr>\n",
       "      <th>10843</th>\n",
       "      <td>Zoom</td>\n",
       "      <td>United States</td>\n",
       "    </tr>\n",
       "    <tr>\n",
       "      <th>10844</th>\n",
       "      <td>Zubaan</td>\n",
       "      <td>India</td>\n",
       "    </tr>\n",
       "  </tbody>\n",
       "</table>\n",
       "<p>10845 rows × 2 columns</p>\n",
       "</div>"
      ],
      "text/plain": [
       "                       title        country\n",
       "0       Dick Johnson Is Dead  United States\n",
       "1              Blood & Water   South Africa\n",
       "2                  Ganglands            nan\n",
       "3      Jailbirds New Orleans            nan\n",
       "4               Kota Factory          India\n",
       "...                      ...            ...\n",
       "10840                 Zodiac  United States\n",
       "10841            Zombie Dumb            nan\n",
       "10842             Zombieland  United States\n",
       "10843                   Zoom  United States\n",
       "10844                 Zubaan          India\n",
       "\n",
       "[10845 rows x 2 columns]"
      ]
     },
     "execution_count": 11,
     "metadata": {},
     "output_type": "execute_result"
    }
   ],
   "source": [
    "constraint = df[\"country\"].apply(lambda x: str(x).split(\", \")).tolist()\n",
    "df_country = pd.DataFrame(constraint, index = df[\"title\"])\n",
    "df_country = df_country.stack()\n",
    "df_country = pd.DataFrame(df_country)\n",
    "df_country.reset_index(inplace = True)\n",
    "df_country = df_country[[\"title\", 0]]\n",
    "df_country.columns = [\"title\", \"country\"]\n",
    "df_country"
   ]
  },
  {
   "cell_type": "markdown",
   "id": "b528372a",
   "metadata": {},
   "source": [
    "### <u>Un-nesting the \"listed_in\" column</u> \n",
    "\n",
    "**Just like above code, this code takes our original DataFrame with the \"listed_in\" column, where listed_in values are stored as comma-separated strings, and converts it into a new DataFrame with two columns: \"title\" and \"listed_in\". Each row of this new DataFrame contains a single genre value for a particular movie, and any movies with multiple genres will have multiple rows in the resulting DataFrame.**"
   ]
  },
  {
   "cell_type": "code",
   "execution_count": 12,
   "id": "e1fa909c",
   "metadata": {},
   "outputs": [
    {
     "data": {
      "text/html": [
       "<div>\n",
       "<style scoped>\n",
       "    .dataframe tbody tr th:only-of-type {\n",
       "        vertical-align: middle;\n",
       "    }\n",
       "\n",
       "    .dataframe tbody tr th {\n",
       "        vertical-align: top;\n",
       "    }\n",
       "\n",
       "    .dataframe thead th {\n",
       "        text-align: right;\n",
       "    }\n",
       "</style>\n",
       "<table border=\"1\" class=\"dataframe\">\n",
       "  <thead>\n",
       "    <tr style=\"text-align: right;\">\n",
       "      <th></th>\n",
       "      <th>title</th>\n",
       "      <th>listed_in</th>\n",
       "    </tr>\n",
       "  </thead>\n",
       "  <tbody>\n",
       "    <tr>\n",
       "      <th>0</th>\n",
       "      <td>Dick Johnson Is Dead</td>\n",
       "      <td>Documentaries</td>\n",
       "    </tr>\n",
       "    <tr>\n",
       "      <th>1</th>\n",
       "      <td>Blood &amp; Water</td>\n",
       "      <td>International TV Shows</td>\n",
       "    </tr>\n",
       "    <tr>\n",
       "      <th>2</th>\n",
       "      <td>Blood &amp; Water</td>\n",
       "      <td>TV Dramas</td>\n",
       "    </tr>\n",
       "    <tr>\n",
       "      <th>3</th>\n",
       "      <td>Blood &amp; Water</td>\n",
       "      <td>TV Mysteries</td>\n",
       "    </tr>\n",
       "    <tr>\n",
       "      <th>4</th>\n",
       "      <td>Ganglands</td>\n",
       "      <td>Crime TV Shows</td>\n",
       "    </tr>\n",
       "    <tr>\n",
       "      <th>...</th>\n",
       "      <td>...</td>\n",
       "      <td>...</td>\n",
       "    </tr>\n",
       "    <tr>\n",
       "      <th>19318</th>\n",
       "      <td>Zoom</td>\n",
       "      <td>Children &amp; Family Movies</td>\n",
       "    </tr>\n",
       "    <tr>\n",
       "      <th>19319</th>\n",
       "      <td>Zoom</td>\n",
       "      <td>Comedies</td>\n",
       "    </tr>\n",
       "    <tr>\n",
       "      <th>19320</th>\n",
       "      <td>Zubaan</td>\n",
       "      <td>Dramas</td>\n",
       "    </tr>\n",
       "    <tr>\n",
       "      <th>19321</th>\n",
       "      <td>Zubaan</td>\n",
       "      <td>International Movies</td>\n",
       "    </tr>\n",
       "    <tr>\n",
       "      <th>19322</th>\n",
       "      <td>Zubaan</td>\n",
       "      <td>Music &amp; Musicals</td>\n",
       "    </tr>\n",
       "  </tbody>\n",
       "</table>\n",
       "<p>19323 rows × 2 columns</p>\n",
       "</div>"
      ],
      "text/plain": [
       "                      title                 listed_in\n",
       "0      Dick Johnson Is Dead             Documentaries\n",
       "1             Blood & Water    International TV Shows\n",
       "2             Blood & Water                 TV Dramas\n",
       "3             Blood & Water              TV Mysteries\n",
       "4                 Ganglands            Crime TV Shows\n",
       "...                     ...                       ...\n",
       "19318                  Zoom  Children & Family Movies\n",
       "19319                  Zoom                  Comedies\n",
       "19320                Zubaan                    Dramas\n",
       "19321                Zubaan      International Movies\n",
       "19322                Zubaan          Music & Musicals\n",
       "\n",
       "[19323 rows x 2 columns]"
      ]
     },
     "execution_count": 12,
     "metadata": {},
     "output_type": "execute_result"
    }
   ],
   "source": [
    "constraint = df[\"listed_in\"].apply(lambda x: str(x).split(\", \")).tolist()\n",
    "df_listed_in = pd.DataFrame(constraint, index = df[\"title\"])\n",
    "df_listed_in = df_listed_in.stack()\n",
    "df_listed_in = pd.DataFrame(df_listed_in)\n",
    "df_listed_in.reset_index(inplace = True)\n",
    "df_listed_in = df_listed_in[[\"title\", 0]]\n",
    "df_listed_in.columns = [\"title\", \"listed_in\"]\n",
    "df_listed_in"
   ]
  },
  {
   "cell_type": "markdown",
   "id": "a4a95cc9",
   "metadata": {},
   "source": [
    "# Top 10 Popular Directors\n",
    "\n",
    "### INSIGHT- We can see that \"Rajiv Chilaka\" is the most popular director on our platform with 22 movies that he has directed.\n",
    "\n",
    "Popularity of directors from the most prolific (at the top) to the least prolific (at the bottom) in terms of the number of unique titles they have directed.\n",
    "\n",
    "What does the following code do?\n",
    "\n",
    "1. **df_director.groupby([\"director\"])[\"title\"].nunique():** This line groups the DataFrame df_director by the \"director\" column and calculates the number of unique titles associated with each director. The .groupby() method groups the data by director names, and then the .nunique() function counts the number of unique titles for each director.\n",
    "\n",
    "2. **result_director.sort_values(ascending = False):** After performing the grouping and counting, this line sorts the resulting Series, result_director, in descending order based on the number of unique titles. Directors with the highest number of unique titles will appear at the top of the Series due to the ascending = False parameter.\n",
    "\n",
    "3. **result_director:** This is the Series that holds the count of unique titles for each director, sorted in descending order. The Series now shows directors in order of their prolificacy, with the most prolific directors appearing at the top.\n",
    "\n"
   ]
  },
  {
   "cell_type": "code",
   "execution_count": 13,
   "id": "d444e597",
   "metadata": {},
   "outputs": [
    {
     "data": {
      "text/plain": [
       "director\n",
       "nan                    2634\n",
       "Rajiv Chilaka            22\n",
       "Jan Suter                21\n",
       "Raúl Campos              19\n",
       "Suhas Kadav              16\n",
       "Marcus Raboy             16\n",
       "Jay Karas                15\n",
       "Cathy Garcia-Molina      13\n",
       "Martin Scorsese          12\n",
       "Youssef Chahine          12\n",
       "Name: title, dtype: int64"
      ]
     },
     "execution_count": 13,
     "metadata": {},
     "output_type": "execute_result"
    }
   ],
   "source": [
    "result_director = df_director.groupby([\"director\"])[\"title\"].nunique()\n",
    "result_director = result_director.sort_values(ascending = False)\n",
    "result_director.head(10)"
   ]
  },
  {
   "cell_type": "markdown",
   "id": "64dc7728",
   "metadata": {},
   "source": [
    "# Top 10 Popular Artists\n",
    "\n",
    "### INSIGHT- We can see that \"Anupam Kher\" is the most popular artist on our platform with 43 movies that he has acted in."
   ]
  },
  {
   "cell_type": "code",
   "execution_count": 14,
   "id": "efee85ad",
   "metadata": {},
   "outputs": [
    {
     "data": {
      "text/plain": [
       "cast\n",
       "nan                 825\n",
       "Anupam Kher          43\n",
       "Shah Rukh Khan       35\n",
       "Julie Tejwani        33\n",
       "Naseeruddin Shah     32\n",
       "Takahiro Sakurai     32\n",
       "Rupa Bhimani         31\n",
       "Om Puri              30\n",
       "Akshay Kumar         30\n",
       "Yuki Kaji            29\n",
       "Name: title, dtype: int64"
      ]
     },
     "execution_count": 14,
     "metadata": {},
     "output_type": "execute_result"
    }
   ],
   "source": [
    "result_cast = df_cast.groupby([\"cast\"])[\"title\"].nunique()\n",
    "result_cast = result_cast.sort_values(ascending = False)\n",
    "result_cast.head(10)"
   ]
  },
  {
   "cell_type": "markdown",
   "id": "690f57c2",
   "metadata": {},
   "source": [
    "# Top 10 Content Consuming Countries\n",
    "\n",
    "### INSIGHT- We can see that \"United States\" is the top consumer of our content where total 3689 number of content titles have been watched."
   ]
  },
  {
   "cell_type": "code",
   "execution_count": 15,
   "id": "5de19f8b",
   "metadata": {},
   "outputs": [
    {
     "data": {
      "text/plain": [
       "country\n",
       "United States     3689\n",
       "India             1046\n",
       "nan                831\n",
       "United Kingdom     804\n",
       "Canada             445\n",
       "France             393\n",
       "Japan              318\n",
       "Spain              232\n",
       "South Korea        231\n",
       "Germany            226\n",
       "Name: title, dtype: int64"
      ]
     },
     "execution_count": 15,
     "metadata": {},
     "output_type": "execute_result"
    }
   ],
   "source": [
    "result_country = df_country.groupby([\"country\"])[\"title\"].nunique()\n",
    "result_country = result_country.sort_values(ascending = False)\n",
    "result_country.head(10)"
   ]
  },
  {
   "cell_type": "markdown",
   "id": "642bd0d7",
   "metadata": {},
   "source": [
    "# Top 10 Release Years\n",
    "\n",
    "### INSIGHT- We can see that \"2018\" is the most common release_year for content on our platform with 1147 content titles having this release year."
   ]
  },
  {
   "cell_type": "code",
   "execution_count": 16,
   "id": "9798d549",
   "metadata": {},
   "outputs": [
    {
     "data": {
      "text/plain": [
       "release_year\n",
       "2018    1147\n",
       "2017    1032\n",
       "2019    1030\n",
       "2020     953\n",
       "2016     902\n",
       "2021     592\n",
       "2015     560\n",
       "2014     352\n",
       "2013     288\n",
       "2012     237\n",
       "Name: title, dtype: int64"
      ]
     },
     "execution_count": 16,
     "metadata": {},
     "output_type": "execute_result"
    }
   ],
   "source": [
    "result_release_year = df.groupby([\"release_year\"])[\"title\"].nunique()\n",
    "result_release_year = result_release_year.sort_values(ascending = False)\n",
    "result_release_year.head(10)"
   ]
  },
  {
   "cell_type": "markdown",
   "id": "f61ec6f2",
   "metadata": {},
   "source": [
    "# Top 10 Ratings\n",
    "\n",
    "### INSIGHT- We can see that \"TV-MA\" is the most common rated content on our platform with 3207 content tiltes having this rating."
   ]
  },
  {
   "cell_type": "code",
   "execution_count": 17,
   "id": "25b8bd2a",
   "metadata": {},
   "outputs": [
    {
     "data": {
      "text/plain": [
       "rating\n",
       "TV-MA    3207\n",
       "TV-14    2160\n",
       "TV-PG     863\n",
       "R         799\n",
       "PG-13     490\n",
       "TV-Y7     334\n",
       "TV-Y      307\n",
       "PG        287\n",
       "TV-G      220\n",
       "NR         80\n",
       "Name: title, dtype: int64"
      ]
     },
     "execution_count": 17,
     "metadata": {},
     "output_type": "execute_result"
    }
   ],
   "source": [
    "result_rating = df.groupby([\"rating\"])[\"title\"].nunique()\n",
    "result_rating = result_rating.sort_values(ascending = False)\n",
    "result_rating.head(10)"
   ]
  },
  {
   "cell_type": "markdown",
   "id": "ff4d3a7d",
   "metadata": {},
   "source": [
    "# Top 10 Duration of Content\n",
    "\n",
    "### INSIGHT- We can see that \"1 season TV Shows\" is the most common content on our platform with 1793 content titles."
   ]
  },
  {
   "cell_type": "code",
   "execution_count": 18,
   "id": "d144f27a",
   "metadata": {},
   "outputs": [
    {
     "data": {
      "text/plain": [
       "duration\n",
       "1 Season     1793\n",
       "2 Seasons     425\n",
       "3 Seasons     199\n",
       "90 min        152\n",
       "97 min        146\n",
       "93 min        146\n",
       "94 min        146\n",
       "91 min        144\n",
       "95 min        137\n",
       "96 min        130\n",
       "Name: title, dtype: int64"
      ]
     },
     "execution_count": 18,
     "metadata": {},
     "output_type": "execute_result"
    }
   ],
   "source": [
    "result_duration = df.groupby([\"duration\"])[\"title\"].nunique()\n",
    "result_duration = result_duration.sort_values(ascending = False)\n",
    "result_duration.head(10)"
   ]
  },
  {
   "cell_type": "markdown",
   "id": "78dc869e",
   "metadata": {},
   "source": [
    "# Top 10 Genres\n",
    "\n",
    "### INSIGHT- We can see that \"International Movies\" is the most popular genre on our platform with total 2752 movies of this genre present on our platform."
   ]
  },
  {
   "cell_type": "code",
   "execution_count": 19,
   "id": "7f4ac686",
   "metadata": {},
   "outputs": [
    {
     "data": {
      "text/plain": [
       "listed_in\n",
       "International Movies        2752\n",
       "Dramas                      2427\n",
       "Comedies                    1674\n",
       "International TV Shows      1351\n",
       "Documentaries                869\n",
       "Action & Adventure           859\n",
       "TV Dramas                    763\n",
       "Independent Movies           756\n",
       "Children & Family Movies     641\n",
       "Romantic Movies              616\n",
       "Name: title, dtype: int64"
      ]
     },
     "execution_count": 19,
     "metadata": {},
     "output_type": "execute_result"
    }
   ],
   "source": [
    "result_listed_in = df_listed_in.groupby([\"listed_in\"])[\"title\"].nunique()\n",
    "result_listed_in = result_listed_in.sort_values(ascending = False)\n",
    "result_listed_in.head(10)"
   ]
  },
  {
   "cell_type": "markdown",
   "id": "d17e803e",
   "metadata": {},
   "source": [
    "# Analysing the counts of \"show_id\" categorical variable using nongraphical analysis"
   ]
  },
  {
   "cell_type": "code",
   "execution_count": 20,
   "id": "4048360f",
   "metadata": {},
   "outputs": [
    {
     "data": {
      "text/plain": [
       "s1       1\n",
       "s5875    1\n",
       "s5869    1\n",
       "s5870    1\n",
       "s5871    1\n",
       "        ..\n",
       "s2931    1\n",
       "s2930    1\n",
       "s2929    1\n",
       "s2928    1\n",
       "s8807    1\n",
       "Name: show_id, Length: 8807, dtype: int64"
      ]
     },
     "execution_count": 20,
     "metadata": {},
     "output_type": "execute_result"
    }
   ],
   "source": [
    "df[\"show_id\"].value_counts()"
   ]
  },
  {
   "cell_type": "markdown",
   "id": "40eaf41f",
   "metadata": {},
   "source": [
    "# Analysing the counts of \"type\" categorical variable using both graphical and nongraphical analysis\n",
    "\n",
    "### INSIGHT- We can see there are total 6131 movies and 2676 TV Shows on our platform."
   ]
  },
  {
   "cell_type": "code",
   "execution_count": 21,
   "id": "2d2de687",
   "metadata": {},
   "outputs": [
    {
     "data": {
      "text/plain": [
       "Movie      6131\n",
       "TV Show    2676\n",
       "Name: type, dtype: int64"
      ]
     },
     "execution_count": 21,
     "metadata": {},
     "output_type": "execute_result"
    }
   ],
   "source": [
    "df[\"type\"].value_counts()"
   ]
  },
  {
   "cell_type": "markdown",
   "id": "44df6ede",
   "metadata": {},
   "source": [
    "## A pie chart showing type of content distribution\n",
    "\n",
    "### INSIGHT- We can see that we have 69.6% Movies and 30.4% TV Shows, and so movies dominate the content type on our platform."
   ]
  },
  {
   "cell_type": "code",
   "execution_count": 22,
   "id": "5c34a3f9",
   "metadata": {},
   "outputs": [
    {
     "data": {
      "image/png": "[encoded data removed]",
      "text/plain": [
       "<Figure size 1000x600 with 1 Axes>"
      ]
     },
     "metadata": {},
     "output_type": "display_data"
    }
   ],
   "source": [
    "type_counts = df[\"type\"].value_counts()\n",
    "\n",
    "# Create the pie chart\n",
    "plt.figure(figsize=(10, 6))\n",
    "plt.pie(type_counts, \n",
    "        labels = type_counts.index, \n",
    "        autopct='%1.1f%%', \n",
    "        startangle = 90, \n",
    "        shadow = True,\n",
    "       explode = (0.2, 0),)\n",
    "plt.axis('equal')  # Equal aspect ratio ensures that pie is drawn as a circle.\n",
    "plt.title(\"Pie Chart of Type Distribution\")\n",
    "shadow = True,\n",
    "\n",
    "# Show the plot\n",
    "plt.show()"
   ]
  },
  {
   "cell_type": "markdown",
   "id": "ec39b545",
   "metadata": {},
   "source": [
    "# Analysing the counts of \"title\" categorical variable using nongraphical analysis"
   ]
  },
  {
   "cell_type": "code",
   "execution_count": 23,
   "id": "35e5fa5f",
   "metadata": {},
   "outputs": [
    {
     "data": {
      "text/plain": [
       "Dick Johnson Is Dead                     1\n",
       "Ip Man 2                                 1\n",
       "Hannibal Buress: Comedy Camisado         1\n",
       "Turbo FAST                               1\n",
       "Masha's Tales                            1\n",
       "                                        ..\n",
       "Love for Sale 2                          1\n",
       "ROAD TO ROMA                             1\n",
       "Good Time                                1\n",
       "Captain Underpants Epic Choice-o-Rama    1\n",
       "Zubaan                                   1\n",
       "Name: title, Length: 8807, dtype: int64"
      ]
     },
     "execution_count": 23,
     "metadata": {},
     "output_type": "execute_result"
    }
   ],
   "source": [
    "df[\"title\"].value_counts()"
   ]
  },
  {
   "cell_type": "markdown",
   "id": "6c95f35b",
   "metadata": {},
   "source": [
    "# Analysing the counts of \"director\" categorical variable using both graphical and nongraphical analysis\n",
    "\n",
    "### INSIGHT- We can see that \"Rajiv Chilaka\" is the most popular director on our platform with 22 movies in which he has directed."
   ]
  },
  {
   "cell_type": "code",
   "execution_count": 24,
   "id": "ffb05c8e",
   "metadata": {},
   "outputs": [
    {
     "data": {
      "text/plain": [
       "nan               2634\n",
       "Rajiv Chilaka       22\n",
       "Jan Suter           21\n",
       "Raúl Campos         19\n",
       "Suhas Kadav         16\n",
       "                  ... \n",
       "Raymie Muzquiz       1\n",
       "Stu Livingston       1\n",
       "Joe Menendez         1\n",
       "Eric Bross           1\n",
       "Mozez Singh          1\n",
       "Name: director, Length: 4994, dtype: int64"
      ]
     },
     "execution_count": 24,
     "metadata": {},
     "output_type": "execute_result"
    }
   ],
   "source": [
    "df_director[\"director\"].value_counts()"
   ]
  },
  {
   "cell_type": "markdown",
   "id": "479a2e6f",
   "metadata": {},
   "source": [
    "## A bar chart showing Top 10 Directors by count"
   ]
  },
  {
   "cell_type": "code",
   "execution_count": 25,
   "id": "54215e76",
   "metadata": {},
   "outputs": [
    {
     "data": {
      "image/png": "[encoded data removed]",
      "text/plain": [
       "<Figure size 1000x600 with 1 Axes>"
      ]
     },
     "metadata": {},
     "output_type": "display_data"
    }
   ],
   "source": [
    "# Calculate the value counts for the \"director\" column\n",
    "director_counts = df_director[\"director\"].value_counts()\n",
    "\n",
    "# Create the bar plot\n",
    "plt.figure(figsize=(10, 6))\n",
    "ax = director_counts[1:10].plot(kind = \"bar\", color = 'orange')  # We can adjust the number of top cast members to display\n",
    "plt.xlabel(\"DIrector\")\n",
    "plt.ylabel(\"Count\")\n",
    "plt.title(\"Top 10 Directors by Count\")\n",
    "\n",
    "# Annotate the bars with their counts\n",
    "for i, v in enumerate(director_counts[1:10]):\n",
    "    ax.text(i, v, str(v), ha = 'center', va = 'bottom')\n",
    "\n",
    "# Show the plot\n",
    "plt.show()"
   ]
  },
  {
   "cell_type": "markdown",
   "id": "fc7dc605",
   "metadata": {},
   "source": [
    "## Analysing the counts of \"cast\" categorical variable using both graphical and nongraphical analysis\n",
    "\n",
    "### INSIGHT- We can see that \"Anupam Kher\" is the most popular artist on our platform with 43 movies in which he has acted."
   ]
  },
  {
   "cell_type": "code",
   "execution_count": 26,
   "id": "65efed5a",
   "metadata": {},
   "outputs": [
    {
     "data": {
      "text/plain": [
       "nan                        825\n",
       "Anupam Kher                 43\n",
       "Shah Rukh Khan              35\n",
       "Julie Tejwani               33\n",
       "Naseeruddin Shah            32\n",
       "                          ... \n",
       "Melanie Straub               1\n",
       "Gabriela Maria Schmeide      1\n",
       "Helena Zengel                1\n",
       "Daniel Valenzuela            1\n",
       "Chittaranjan Tripathy        1\n",
       "Name: cast, Length: 36440, dtype: int64"
      ]
     },
     "execution_count": 26,
     "metadata": {},
     "output_type": "execute_result"
    }
   ],
   "source": [
    "df_cast[\"cast\"].value_counts()"
   ]
  },
  {
   "cell_type": "markdown",
   "id": "1ff3b7b4",
   "metadata": {},
   "source": [
    "## A bar chart showing Top 10 Artists by count"
   ]
  },
  {
   "cell_type": "code",
   "execution_count": 27,
   "id": "2083f4e5",
   "metadata": {},
   "outputs": [
    {
     "data": {
      "image/png": "[encoded data removed]",
      "text/plain": [
       "<Figure size 1000x600 with 1 Axes>"
      ]
     },
     "metadata": {},
     "output_type": "display_data"
    }
   ],
   "source": [
    "# Calculate the value counts for the \"cast\" column\n",
    "cast_counts = df_cast[\"cast\"].value_counts()\n",
    "\n",
    "# Create the bar plot\n",
    "plt.figure(figsize=(10, 6))\n",
    "ax = cast_counts[1:10].plot(kind = \"bar\")  # We can adjust the number of top cast members to display\n",
    "plt.xlabel(\"Cast Member\")\n",
    "plt.ylabel(\"Count\")\n",
    "plt.title(\"Top 10 Cast Members by Count\")\n",
    "\n",
    "# Annotate the bars with their counts\n",
    "for i, v in enumerate(cast_counts[1:10]):\n",
    "    ax.text(i, v, str(v), ha = 'center', va = 'bottom')\n",
    "\n",
    "# Show the plot\n",
    "plt.show()"
   ]
  },
  {
   "cell_type": "markdown",
   "id": "57a0f0e0",
   "metadata": {},
   "source": [
    "# Analysing the counts of \"country\" categorical variable using both graphical and nongraphical analysis\n",
    "\n",
    "### INSIGHT- We can see that \"United States\" is the top consumer of our content where total 3689 number of content titles have been watched."
   ]
  },
  {
   "cell_type": "code",
   "execution_count": 28,
   "id": "5c5eb301",
   "metadata": {},
   "outputs": [
    {
     "data": {
      "text/plain": [
       "United States     3689\n",
       "India             1046\n",
       "nan                831\n",
       "United Kingdom     804\n",
       "Canada             445\n",
       "                  ... \n",
       "Bermuda              1\n",
       "Ecuador              1\n",
       "Armenia              1\n",
       "Mongolia             1\n",
       "Montenegro           1\n",
       "Name: country, Length: 128, dtype: int64"
      ]
     },
     "execution_count": 28,
     "metadata": {},
     "output_type": "execute_result"
    }
   ],
   "source": [
    "df_country[\"country\"].value_counts()"
   ]
  },
  {
   "cell_type": "markdown",
   "id": "af19f79e",
   "metadata": {},
   "source": [
    "## A bar chart showing Top 10 Countries by count"
   ]
  },
  {
   "cell_type": "code",
   "execution_count": 29,
   "id": "f3f0759b",
   "metadata": {},
   "outputs": [
    {
     "data": {
      "image/png": "[encoded data removed]",
      "text/plain": [
       "<Figure size 1000x600 with 1 Axes>"
      ]
     },
     "metadata": {},
     "output_type": "display_data"
    }
   ],
   "source": [
    "# Calculate the value counts for the \"cast\" column\n",
    "country_counts = df_country[\"country\"].value_counts()\n",
    "\n",
    "# Create the bar plot\n",
    "plt.figure(figsize=(10, 6))\n",
    "ax = country_counts[:10].plot(kind = \"bar\", color = \"green\")  # We can adjust the number of top cast members to display\n",
    "plt.xlabel(\"Country\")\n",
    "plt.ylabel(\"Count\")\n",
    "plt.title(\"Top 10 Countries by Count\")\n",
    "\n",
    "# Annotate the bars with their counts\n",
    "for i, v in enumerate(country_counts[:10]):\n",
    "    ax.text(i, v, str(v), ha = 'center', va = 'bottom')\n",
    "\n",
    "# Show the plot\n",
    "plt.show()"
   ]
  },
  {
   "cell_type": "markdown",
   "id": "d14975a8",
   "metadata": {},
   "source": [
    "## Analysing the counts of \"date_added\" variable using both graphical and nongraphical analysis\n",
    "\n",
    "### INSIGHT- We can see that \"2020\" is the top year in which most of our content got added to our platform with 109 number of content titles which have been added in that year."
   ]
  },
  {
   "cell_type": "code",
   "execution_count": 30,
   "id": "05a7e2eb",
   "metadata": {},
   "outputs": [
    {
     "data": {
      "text/plain": [
       "January 1, 2020      109\n",
       "November 1, 2019      89\n",
       "March 1, 2018         75\n",
       "December 31, 2019     74\n",
       "October 1, 2018       71\n",
       "                    ... \n",
       "December 4, 2016       1\n",
       "November 21, 2016      1\n",
       "November 19, 2016      1\n",
       "November 17, 2016      1\n",
       "January 11, 2020       1\n",
       "Name: date_added, Length: 1767, dtype: int64"
      ]
     },
     "execution_count": 30,
     "metadata": {},
     "output_type": "execute_result"
    }
   ],
   "source": [
    "df[\"date_added\"].value_counts()"
   ]
  },
  {
   "cell_type": "code",
   "execution_count": 49,
   "id": "cdab4a7f",
   "metadata": {},
   "outputs": [
    {
     "data": {
      "image/png": "[encoded data removed]",
      "text/plain": [
       "<Figure size 1200x600 with 1 Axes>"
      ]
     },
     "metadata": {},
     "output_type": "display_data"
    }
   ],
   "source": [
    "# Convert the \"date_added\" column to datetime format\n",
    "df['date_added'] = pd.to_datetime(df['date_added'], errors='coerce')\n",
    "\n",
    "# Create a histogram with KDE\n",
    "plt.figure(figsize=(12, 6))\n",
    "sns.histplot(data=df, x='date_added', kde=True, bins=50)\n",
    "plt.title('Histogram with KDE for Date Added')\n",
    "plt.xlabel('Date Added')\n",
    "plt.ylabel('Frequency')\n",
    "plt.xticks(rotation=45)\n",
    "plt.show()"
   ]
  },
  {
   "cell_type": "markdown",
   "id": "37cf39b6",
   "metadata": {},
   "source": [
    "## Finding the counts of \"release_year\" numerical variable using both graphical and nongraphical analysis"
   ]
  },
  {
   "cell_type": "code",
   "execution_count": 31,
   "id": "44469485",
   "metadata": {},
   "outputs": [
    {
     "data": {
      "text/plain": [
       "2018    1147\n",
       "2017    1032\n",
       "2019    1030\n",
       "2020     953\n",
       "2016     902\n",
       "        ... \n",
       "1959       1\n",
       "1925       1\n",
       "1961       1\n",
       "1947       1\n",
       "1966       1\n",
       "Name: release_year, Length: 74, dtype: int64"
      ]
     },
     "execution_count": 31,
     "metadata": {},
     "output_type": "execute_result"
    }
   ],
   "source": [
    "df[\"release_year\"].value_counts()"
   ]
  },
  {
   "cell_type": "code",
   "execution_count": 32,
   "id": "8183ebad",
   "metadata": {},
   "outputs": [
    {
     "data": {
      "image/png": "[encoded data removed]",
      "text/plain": [
       "<Figure size 1000x600 with 1 Axes>"
      ]
     },
     "metadata": {},
     "output_type": "display_data"
    }
   ],
   "source": [
    "release_years = df[\"release_year\"]\n",
    "\n",
    "# Create a histogram using Seaborn\n",
    "plt.figure(figsize=(10, 6))\n",
    "sns.histplot(data=release_years, bins=30, kde=True)\n",
    "plt.xlabel(\"Release Year\")\n",
    "plt.ylabel(\"Count\")\n",
    "plt.title(\"Histogram of Release Year\")\n",
    "plt.show()"
   ]
  },
  {
   "cell_type": "markdown",
   "id": "7cf68d59",
   "metadata": {},
   "source": [
    "## Finding the counts of \"rating\" categorical variable using both graphical and nongraphical analysis"
   ]
  },
  {
   "cell_type": "code",
   "execution_count": 33,
   "id": "38a67188",
   "metadata": {},
   "outputs": [
    {
     "data": {
      "text/plain": [
       "TV-MA       3207\n",
       "TV-14       2160\n",
       "TV-PG        863\n",
       "R            799\n",
       "PG-13        490\n",
       "TV-Y7        334\n",
       "TV-Y         307\n",
       "PG           287\n",
       "TV-G         220\n",
       "NR            80\n",
       "G             41\n",
       "TV-Y7-FV       6\n",
       "NC-17          3\n",
       "UR             3\n",
       "74 min         1\n",
       "84 min         1\n",
       "66 min         1\n",
       "Name: rating, dtype: int64"
      ]
     },
     "execution_count": 33,
     "metadata": {},
     "output_type": "execute_result"
    }
   ],
   "source": [
    "df[\"rating\"].value_counts()"
   ]
  },
  {
   "cell_type": "code",
   "execution_count": 34,
   "id": "55b15530",
   "metadata": {},
   "outputs": [
    {
     "data": {
      "image/png": "[encoded data removed]",
      "text/plain": [
       "<Figure size 1000x600 with 1 Axes>"
      ]
     },
     "metadata": {},
     "output_type": "display_data"
    }
   ],
   "source": [
    "ratings = df[\"rating\"]\n",
    "\n",
    "# Create a count plot for ratings using Seaborn\n",
    "plt.figure(figsize=(10, 6))\n",
    "ax = sns.countplot(data=df, x=ratings, palette=\"Set2\")  # Adjust the palette for color variations\n",
    "plt.xlabel(\"Rating\")\n",
    "plt.ylabel(\"Count\")\n",
    "plt.title(\"Count of Ratings\")\n",
    "plt.xticks(rotation=45)  # Rotate the x-axis labels for better readability\n",
    "\n",
    "# Annotate the bars with their counts\n",
    "for p in ax.patches:\n",
    "    ax.annotate(f'{p.get_height()}', (p.get_x() + p.get_width() / 2., p.get_height()), ha='center', va='bottom')\n",
    "\n",
    "plt.show()"
   ]
  },
  {
   "cell_type": "markdown",
   "id": "c0360e24",
   "metadata": {},
   "source": [
    "## Finding the counts of \"duration\" variable using both graphical and nongraphical analysis"
   ]
  },
  {
   "cell_type": "code",
   "execution_count": 35,
   "id": "0c29fd52",
   "metadata": {},
   "outputs": [
    {
     "data": {
      "text/plain": [
       "1 Season     1793\n",
       "2 Seasons     425\n",
       "3 Seasons     199\n",
       "90 min        152\n",
       "94 min        146\n",
       "             ... \n",
       "16 min          1\n",
       "186 min         1\n",
       "193 min         1\n",
       "189 min         1\n",
       "191 min         1\n",
       "Name: duration, Length: 220, dtype: int64"
      ]
     },
     "execution_count": 35,
     "metadata": {},
     "output_type": "execute_result"
    }
   ],
   "source": [
    "df[\"duration\"].value_counts()"
   ]
  },
  {
   "cell_type": "code",
   "execution_count": 36,
   "id": "b2e809d9",
   "metadata": {},
   "outputs": [
    {
     "data": {
      "image/png": "[encoded data removed]",
      "text/plain": [
       "<Figure size 1000x600 with 1 Axes>"
      ]
     },
     "metadata": {},
     "output_type": "display_data"
    }
   ],
   "source": [
    "# Calculate the value counts for the \"duration\" column\n",
    "duration_counts = df[\"duration\"].value_counts()\n",
    "\n",
    "# Create the bar plot\n",
    "plt.figure(figsize=(10, 6))\n",
    "ax = duration_counts[:10].plot(kind = \"bar\", color = \"skyblue\")  # We can adjust the number of top cast members to display\n",
    "plt.xlabel(\"Duration\")\n",
    "plt.ylabel(\"Count\")\n",
    "plt.title(\"Top 10 Duration by Count\")\n",
    "\n",
    "# Annotate the bars with their counts\n",
    "for i, v in enumerate(duration_counts[:10]):\n",
    "    ax.text(i, v, str(v), ha = 'center', va = 'bottom')\n",
    "\n",
    "# Show the plot\n",
    "plt.show()"
   ]
  },
  {
   "cell_type": "markdown",
   "id": "8fdbc0e1",
   "metadata": {},
   "source": [
    "## Finding the counts of \"listed_in\" categorical variable using both graphical and nongraphical analysis"
   ]
  },
  {
   "cell_type": "code",
   "execution_count": 37,
   "id": "de63b9b9",
   "metadata": {},
   "outputs": [
    {
     "data": {
      "text/plain": [
       "International Movies            2752\n",
       "Dramas                          2427\n",
       "Comedies                        1674\n",
       "International TV Shows          1351\n",
       "Documentaries                    869\n",
       "Action & Adventure               859\n",
       "TV Dramas                        763\n",
       "Independent Movies               756\n",
       "Children & Family Movies         641\n",
       "Romantic Movies                  616\n",
       "TV Comedies                      581\n",
       "Thrillers                        577\n",
       "Crime TV Shows                   470\n",
       "Kids' TV                         451\n",
       "Docuseries                       395\n",
       "Music & Musicals                 375\n",
       "Romantic TV Shows                370\n",
       "Horror Movies                    357\n",
       "Stand-Up Comedy                  343\n",
       "Reality TV                       255\n",
       "British TV Shows                 253\n",
       "Sci-Fi & Fantasy                 243\n",
       "Sports Movies                    219\n",
       "Anime Series                     176\n",
       "Spanish-Language TV Shows        174\n",
       "TV Action & Adventure            168\n",
       "Korean TV Shows                  151\n",
       "Classic Movies                   116\n",
       "LGBTQ Movies                     102\n",
       "TV Mysteries                      98\n",
       "Science & Nature TV               92\n",
       "TV Sci-Fi & Fantasy               84\n",
       "TV Horror                         75\n",
       "Anime Features                    71\n",
       "Cult Movies                       71\n",
       "Teen TV Shows                     69\n",
       "Faith & Spirituality              65\n",
       "TV Thrillers                      57\n",
       "Movies                            57\n",
       "Stand-Up Comedy & Talk Shows      56\n",
       "Classic & Cult TV                 28\n",
       "TV Shows                          16\n",
       "Name: listed_in, dtype: int64"
      ]
     },
     "execution_count": 37,
     "metadata": {},
     "output_type": "execute_result"
    }
   ],
   "source": [
    "df_listed_in[\"listed_in\"].value_counts()"
   ]
  },
  {
   "cell_type": "code",
   "execution_count": 38,
   "id": "4861fc16",
   "metadata": {},
   "outputs": [
    {
     "data": {
      "image/png": "[encoded data removed]",
      "text/plain": [
       "<Figure size 1200x600 with 1 Axes>"
      ]
     },
     "metadata": {},
     "output_type": "display_data"
    }
   ],
   "source": [
    "top_10_listed_in = df_listed_in[\"listed_in\"].value_counts().head(10)\n",
    "\n",
    "# Create a count plot for the top 10 \"listed_in\" categories\n",
    "plt.figure(figsize=(12, 6))\n",
    "ax = sns.countplot(data=df_listed_in, y=\"listed_in\", order=top_10_listed_in.index, color=\"blue\")\n",
    "plt.xlabel(\"Count\")\n",
    "plt.ylabel(\"Genre\")\n",
    "plt.title(\"Count Plot of Top 10 Genres\")\n",
    "\n",
    "# Annotate the bars with their counts\n",
    "for p in ax.patches:\n",
    "    ax.annotate(f'{p.get_width()}', (p.get_width(), p.get_y() + p.get_height() / 2), ha='left', va='center')\n",
    "\n",
    "plt.show()"
   ]
  },
  {
   "cell_type": "markdown",
   "id": "5ae069c2",
   "metadata": {},
   "source": [
    "## Comparison of TV Shows vs. Movies\n",
    "\n",
    "### Top 10 countries and the number of Movies produced in each country."
   ]
  },
  {
   "cell_type": "code",
   "execution_count": 39,
   "id": "6c77aba4",
   "metadata": {},
   "outputs": [
    {
     "name": "stdout",
     "output_type": "stream",
     "text": [
      "          Country  Num_of_Movies\n",
      "0   United States           2058\n",
      "1           India            893\n",
      "2  United Kingdom            206\n",
      "3          Canada            122\n",
      "4           Spain             97\n",
      "5           Egypt             92\n",
      "6         Nigeria             86\n",
      "7       Indonesia             77\n",
      "8          Turkey             76\n",
      "9           Japan             76\n"
     ]
    }
   ],
   "source": [
    "# Filter for movies and group by country\n",
    "movies_data = df[df['type'] == 'Movie']\n",
    "movie_counts = movies_data['country'].value_counts().reset_index()\n",
    "movie_counts.columns = ['Country', 'Num_of_Movies']\n",
    "\n",
    "# Get the top 10 countries\n",
    "top_10_movies_countries = movie_counts.head(10)\n",
    "print(top_10_movies_countries)"
   ]
  },
  {
   "cell_type": "markdown",
   "id": "ff22bf6c",
   "metadata": {},
   "source": [
    "## Comparison of TV Shows vs. Movies\n",
    "\n",
    "### Top 10 countries and the number of TV Shows produced in each country."
   ]
  },
  {
   "cell_type": "code",
   "execution_count": 41,
   "id": "5ca942a2",
   "metadata": {},
   "outputs": [
    {
     "name": "stdout",
     "output_type": "stream",
     "text": [
      "          Country  Num_of_TV_Shows\n",
      "0   United States              760\n",
      "1  United Kingdom              213\n",
      "2           Japan              169\n",
      "3     South Korea              158\n",
      "4           India               79\n",
      "5          Taiwan               68\n",
      "6          Canada               59\n",
      "7          France               49\n",
      "8       Australia               48\n",
      "9           Spain               48\n"
     ]
    }
   ],
   "source": [
    "# Filter for TV shows and group by country\n",
    "tv_show_data = df[df['type'] == 'TV Show']\n",
    "tv_show_counts = tv_show_data['country'].value_counts().reset_index()\n",
    "tv_show_counts.columns = ['Country', 'Num_of_TV_Shows']\n",
    "\n",
    "# Get the top 10 countries\n",
    "top_10_tv_show_countries = tv_show_counts.head(10)\n",
    "print(top_10_tv_show_countries)"
   ]
  },
  {
   "cell_type": "markdown",
   "id": "844233d1",
   "metadata": {},
   "source": [
    "## Best Month to Launch a TV Show and a Movie\n",
    "\n",
    "### We find that the best month to launch a TV Show on our platform was <u>December.</u>\n",
    "### We find that the best month to launch a Movie on our platform was <u>July.</u>"
   ]
  },
  {
   "cell_type": "code",
   "execution_count": 50,
   "id": "4ca211b0",
   "metadata": {},
   "outputs": [
    {
     "name": "stdout",
     "output_type": "stream",
     "text": [
      "Best Month for TV Shows: 12.0\n",
      "Best Month for Movies: 7.0\n",
      "Number of TV Shows Releases in the Best Month: 266\n",
      "Number of Movie Releases in the Best Month: 565\n"
     ]
    }
   ],
   "source": [
    "df['Date_added'] = pd.to_datetime(df['date_added'])\n",
    "\n",
    "# Extract the month number\n",
    "df['Month'] = df['Date_added'].dt.month\n",
    "\n",
    "# Separate TV shows and movies\n",
    "tv_shows = df[df['type'] == 'TV Show']\n",
    "movies = df[df['type'] == 'Movie']\n",
    "\n",
    "# Group by month and count the number of TV shows and movies\n",
    "tv_show_monthly_counts = tv_shows['Month'].value_counts().sort_index()\n",
    "movie_monthly_counts = movies['Month'].value_counts().sort_index()\n",
    "\n",
    "# Identify the month with the highest counts for TV shows and movies\n",
    "best_month_for_tv_shows = tv_show_monthly_counts.idxmax()\n",
    "best_month_for_movies = movie_monthly_counts.idxmax()\n",
    "\n",
    "# Get the count of tv shows in the best month\n",
    "highest_tv_shows_count = tv_show_monthly_counts.max()\n",
    "\n",
    "# Get the count of movies in the best month\n",
    "highest_movie_count = movie_monthly_counts.max()\n",
    "\n",
    "print(\"Best Month for TV Shows:\", best_month_for_tv_shows)\n",
    "print(\"Best Month for Movies:\", best_month_for_movies)\n",
    "print(\"Number of TV Shows Releases in the Best Month:\", highest_tv_shows_count)\n",
    "print(\"Number of Movie Releases in the Best Month:\", highest_movie_count)"
   ]
  },
  {
   "cell_type": "markdown",
   "id": "d502807b",
   "metadata": {},
   "source": [
    "## Best Week to Launch a TV Show and a Movie\n",
    "\n",
    "### We find that the best week to launch a TV Show on our platform was <u>27th week.</u>\n",
    "### We find that the best week to launch a Movie on our platform was <u>1st week.</u>"
   ]
  },
  {
   "cell_type": "code",
   "execution_count": 51,
   "id": "06a665de",
   "metadata": {},
   "outputs": [
    {
     "name": "stdout",
     "output_type": "stream",
     "text": [
      "Best Week for TV Shows: 27.0\n",
      "Best Week for Movies: 1.0\n",
      "Number of TV Shows Releases in the Best Week: 86\n",
      "Number of Movie Releases in the Best Week: 316\n"
     ]
    },
    {
     "name": "stderr",
     "output_type": "stream",
     "text": [
      "C:\\Users\\Lenovo\\AppData\\Local\\Temp\\ipykernel_3008\\2403256534.py:4: FutureWarning: Series.dt.weekofyear and Series.dt.week have been deprecated. Please use Series.dt.isocalendar().week instead.\n",
      "  df['Week'] = df['Date_added'].dt.week\n"
     ]
    }
   ],
   "source": [
    "df['Date_added'] = pd.to_datetime(df['date_added'])\n",
    "\n",
    "# Extract the week number\n",
    "df['Week'] = df['Date_added'].dt.week\n",
    "\n",
    "# Separate TV shows and movies\n",
    "tv_shows = df[df['type'] == 'TV Show']\n",
    "movies = df[df['type'] == 'Movie']\n",
    "\n",
    "# Group by week and count the number of TV shows and movies\n",
    "tv_show_weekly_counts = tv_shows['Week'].value_counts().sort_index()\n",
    "movie_weekly_counts = movies['Week'].value_counts().sort_index()\n",
    "\n",
    "# Identify the week with the highest counts for TV shows and movies\n",
    "best_week_for_tv_shows = tv_show_weekly_counts.idxmax()\n",
    "best_week_for_movies = movie_weekly_counts.idxmax()\n",
    "\n",
    "# Get the count of tv shows in the best week\n",
    "highest_tv_shows_count = tv_show_weekly_counts.max()\n",
    "\n",
    "# Get the count of movies in the best week\n",
    "highest_movie_count = movie_weekly_counts.max()\n",
    "\n",
    "print(\"Best Week for TV Shows:\", best_week_for_tv_shows)\n",
    "print(\"Best Week for Movies:\", best_week_for_movies)\n",
    "print(\"Number of TV Shows Releases in the Best Week:\", highest_tv_shows_count)\n",
    "print(\"Number of Movie Releases in the Best Week:\", highest_movie_count)"
   ]
  },
  {
   "cell_type": "code",
   "execution_count": 52,
   "id": "7a913796",
   "metadata": {},
   "outputs": [
    {
     "name": "stdout",
     "output_type": "stream",
     "text": [
      "Top 10 Most Popular Genres:\n",
      "International Movies        2752\n",
      "Dramas                      2427\n",
      "Comedies                    1674\n",
      "International TV Shows      1351\n",
      "Documentaries                869\n",
      "Action & Adventure           859\n",
      "TV Dramas                    763\n",
      "Independent Movies           756\n",
      "Children & Family Movies     641\n",
      "Romantic Movies              616\n",
      "Name: listed_in, dtype: int64\n"
     ]
    }
   ],
   "source": [
    "# Split the genre strings into lists\n",
    "df['listed_in'] = df['listed_in'].str.split(', ')\n",
    "\n",
    "# Explode the lists into separate rows\n",
    "df = df.explode('listed_in')\n",
    "\n",
    "# Count the frequency of each genre\n",
    "genre_counts = df['listed_in'].value_counts()\n",
    "\n",
    "# Display the top N most popular genres\n",
    "N = 10  # You can change this value to show more or fewer genres\n",
    "top_genres = genre_counts.head(N)\n",
    "print(\"Top\", N, \"Most Popular Genres:\")\n",
    "print(top_genres)\n"
   ]
  },
  {
   "cell_type": "code",
   "execution_count": 40,
   "id": "7fefb4ca",
   "metadata": {},
   "outputs": [
    {
     "data": {
      "text/html": [
       "<div>\n",
       "<style scoped>\n",
       "    .dataframe tbody tr th:only-of-type {\n",
       "        vertical-align: middle;\n",
       "    }\n",
       "\n",
       "    .dataframe tbody tr th {\n",
       "        vertical-align: top;\n",
       "    }\n",
       "\n",
       "    .dataframe thead th {\n",
       "        text-align: right;\n",
       "    }\n",
       "</style>\n",
       "<table border=\"1\" class=\"dataframe\">\n",
       "  <thead>\n",
       "    <tr style=\"text-align: right;\">\n",
       "      <th></th>\n",
       "      <th>title</th>\n",
       "      <th>country</th>\n",
       "    </tr>\n",
       "  </thead>\n",
       "  <tbody>\n",
       "    <tr>\n",
       "      <th>0</th>\n",
       "      <td>Dick Johnson Is Dead</td>\n",
       "      <td>United States</td>\n",
       "    </tr>\n",
       "    <tr>\n",
       "      <th>1</th>\n",
       "      <td>Blood &amp; Water</td>\n",
       "      <td>South Africa</td>\n",
       "    </tr>\n",
       "    <tr>\n",
       "      <th>2</th>\n",
       "      <td>Ganglands</td>\n",
       "      <td>nan</td>\n",
       "    </tr>\n",
       "    <tr>\n",
       "      <th>3</th>\n",
       "      <td>Jailbirds New Orleans</td>\n",
       "      <td>nan</td>\n",
       "    </tr>\n",
       "    <tr>\n",
       "      <th>4</th>\n",
       "      <td>Kota Factory</td>\n",
       "      <td>India</td>\n",
       "    </tr>\n",
       "    <tr>\n",
       "      <th>...</th>\n",
       "      <td>...</td>\n",
       "      <td>...</td>\n",
       "    </tr>\n",
       "    <tr>\n",
       "      <th>10840</th>\n",
       "      <td>Zodiac</td>\n",
       "      <td>United States</td>\n",
       "    </tr>\n",
       "    <tr>\n",
       "      <th>10841</th>\n",
       "      <td>Zombie Dumb</td>\n",
       "      <td>nan</td>\n",
       "    </tr>\n",
       "    <tr>\n",
       "      <th>10842</th>\n",
       "      <td>Zombieland</td>\n",
       "      <td>United States</td>\n",
       "    </tr>\n",
       "    <tr>\n",
       "      <th>10843</th>\n",
       "      <td>Zoom</td>\n",
       "      <td>United States</td>\n",
       "    </tr>\n",
       "    <tr>\n",
       "      <th>10844</th>\n",
       "      <td>Zubaan</td>\n",
       "      <td>India</td>\n",
       "    </tr>\n",
       "  </tbody>\n",
       "</table>\n",
       "<p>10845 rows × 2 columns</p>\n",
       "</div>"
      ],
      "text/plain": [
       "                       title        country\n",
       "0       Dick Johnson Is Dead  United States\n",
       "1              Blood & Water   South Africa\n",
       "2                  Ganglands            nan\n",
       "3      Jailbirds New Orleans            nan\n",
       "4               Kota Factory          India\n",
       "...                      ...            ...\n",
       "10840                 Zodiac  United States\n",
       "10841            Zombie Dumb            nan\n",
       "10842             Zombieland  United States\n",
       "10843                   Zoom  United States\n",
       "10844                 Zubaan          India\n",
       "\n",
       "[10845 rows x 2 columns]"
      ]
     },
     "execution_count": 40,
     "metadata": {},
     "output_type": "execute_result"
    }
   ],
   "source": [
    "constraint = df['country'].apply(lambda x: str(x).split(', ')).tolist()\n",
    "df_country = pd.DataFrame(constraint, index = df['title'])\n",
    "df_country = df_country.stack()\n",
    "df_country = pd.DataFrame(df_country)\n",
    "df_country.reset_index(inplace = True)\n",
    "df_country = df_country[['title', 0]]\n",
    "df_country.columns = ['title','country']\n",
    "df_country"
   ]
  },
  {
   "cell_type": "code",
   "execution_count": 41,
   "id": "c5381497",
   "metadata": {},
   "outputs": [
    {
     "data": {
      "text/html": [
       "<div>\n",
       "<style scoped>\n",
       "    .dataframe tbody tr th:only-of-type {\n",
       "        vertical-align: middle;\n",
       "    }\n",
       "\n",
       "    .dataframe tbody tr th {\n",
       "        vertical-align: top;\n",
       "    }\n",
       "\n",
       "    .dataframe thead th {\n",
       "        text-align: right;\n",
       "    }\n",
       "</style>\n",
       "<table border=\"1\" class=\"dataframe\">\n",
       "  <thead>\n",
       "    <tr style=\"text-align: right;\">\n",
       "      <th></th>\n",
       "      <th>title</th>\n",
       "      <th>cast</th>\n",
       "    </tr>\n",
       "  </thead>\n",
       "  <tbody>\n",
       "    <tr>\n",
       "      <th>0</th>\n",
       "      <td>Dick Johnson Is Dead</td>\n",
       "      <td>nan</td>\n",
       "    </tr>\n",
       "    <tr>\n",
       "      <th>1</th>\n",
       "      <td>Blood &amp; Water</td>\n",
       "      <td>Ama Qamata</td>\n",
       "    </tr>\n",
       "    <tr>\n",
       "      <th>2</th>\n",
       "      <td>Blood &amp; Water</td>\n",
       "      <td>Khosi Ngema</td>\n",
       "    </tr>\n",
       "    <tr>\n",
       "      <th>3</th>\n",
       "      <td>Blood &amp; Water</td>\n",
       "      <td>Gail Mabalane</td>\n",
       "    </tr>\n",
       "    <tr>\n",
       "      <th>4</th>\n",
       "      <td>Blood &amp; Water</td>\n",
       "      <td>Thabang Molaba</td>\n",
       "    </tr>\n",
       "    <tr>\n",
       "      <th>...</th>\n",
       "      <td>...</td>\n",
       "      <td>...</td>\n",
       "    </tr>\n",
       "    <tr>\n",
       "      <th>64946</th>\n",
       "      <td>Zubaan</td>\n",
       "      <td>Manish Chaudhary</td>\n",
       "    </tr>\n",
       "    <tr>\n",
       "      <th>64947</th>\n",
       "      <td>Zubaan</td>\n",
       "      <td>Meghna Malik</td>\n",
       "    </tr>\n",
       "    <tr>\n",
       "      <th>64948</th>\n",
       "      <td>Zubaan</td>\n",
       "      <td>Malkeet Rauni</td>\n",
       "    </tr>\n",
       "    <tr>\n",
       "      <th>64949</th>\n",
       "      <td>Zubaan</td>\n",
       "      <td>Anita Shabdish</td>\n",
       "    </tr>\n",
       "    <tr>\n",
       "      <th>64950</th>\n",
       "      <td>Zubaan</td>\n",
       "      <td>Chittaranjan Tripathy</td>\n",
       "    </tr>\n",
       "  </tbody>\n",
       "</table>\n",
       "<p>64951 rows × 2 columns</p>\n",
       "</div>"
      ],
      "text/plain": [
       "                      title                   cast\n",
       "0      Dick Johnson Is Dead                    nan\n",
       "1             Blood & Water             Ama Qamata\n",
       "2             Blood & Water            Khosi Ngema\n",
       "3             Blood & Water          Gail Mabalane\n",
       "4             Blood & Water         Thabang Molaba\n",
       "...                     ...                    ...\n",
       "64946                Zubaan       Manish Chaudhary\n",
       "64947                Zubaan           Meghna Malik\n",
       "64948                Zubaan          Malkeet Rauni\n",
       "64949                Zubaan         Anita Shabdish\n",
       "64950                Zubaan  Chittaranjan Tripathy\n",
       "\n",
       "[64951 rows x 2 columns]"
      ]
     },
     "execution_count": 41,
     "metadata": {},
     "output_type": "execute_result"
    }
   ],
   "source": [
    "constraint = df['cast'].apply(lambda x: str(x).split(', ')).tolist()\n",
    "df_cast = pd.DataFrame(constraint, index = df['title'])\n",
    "df_cast = df_cast.stack()\n",
    "df_cast = pd.DataFrame(df_cast)\n",
    "df_cast.reset_index(inplace = True)\n",
    "df_cast = df_cast[['title', 0]]\n",
    "df_cast.columns = ['title','cast']\n",
    "df_cast"
   ]
  },
  {
   "cell_type": "code",
   "execution_count": 42,
   "id": "e9e28b00",
   "metadata": {},
   "outputs": [
    {
     "data": {
      "text/html": [
       "<div>\n",
       "<style scoped>\n",
       "    .dataframe tbody tr th:only-of-type {\n",
       "        vertical-align: middle;\n",
       "    }\n",
       "\n",
       "    .dataframe tbody tr th {\n",
       "        vertical-align: top;\n",
       "    }\n",
       "\n",
       "    .dataframe thead th {\n",
       "        text-align: right;\n",
       "    }\n",
       "</style>\n",
       "<table border=\"1\" class=\"dataframe\">\n",
       "  <thead>\n",
       "    <tr style=\"text-align: right;\">\n",
       "      <th></th>\n",
       "      <th>title</th>\n",
       "      <th>listed_in</th>\n",
       "    </tr>\n",
       "  </thead>\n",
       "  <tbody>\n",
       "    <tr>\n",
       "      <th>0</th>\n",
       "      <td>Dick Johnson Is Dead</td>\n",
       "      <td>Documentaries</td>\n",
       "    </tr>\n",
       "    <tr>\n",
       "      <th>1</th>\n",
       "      <td>Blood &amp; Water</td>\n",
       "      <td>International TV Shows</td>\n",
       "    </tr>\n",
       "    <tr>\n",
       "      <th>2</th>\n",
       "      <td>Blood &amp; Water</td>\n",
       "      <td>TV Dramas</td>\n",
       "    </tr>\n",
       "    <tr>\n",
       "      <th>3</th>\n",
       "      <td>Blood &amp; Water</td>\n",
       "      <td>TV Mysteries</td>\n",
       "    </tr>\n",
       "    <tr>\n",
       "      <th>4</th>\n",
       "      <td>Ganglands</td>\n",
       "      <td>Crime TV Shows</td>\n",
       "    </tr>\n",
       "    <tr>\n",
       "      <th>...</th>\n",
       "      <td>...</td>\n",
       "      <td>...</td>\n",
       "    </tr>\n",
       "    <tr>\n",
       "      <th>19318</th>\n",
       "      <td>Zoom</td>\n",
       "      <td>Children &amp; Family Movies</td>\n",
       "    </tr>\n",
       "    <tr>\n",
       "      <th>19319</th>\n",
       "      <td>Zoom</td>\n",
       "      <td>Comedies</td>\n",
       "    </tr>\n",
       "    <tr>\n",
       "      <th>19320</th>\n",
       "      <td>Zubaan</td>\n",
       "      <td>Dramas</td>\n",
       "    </tr>\n",
       "    <tr>\n",
       "      <th>19321</th>\n",
       "      <td>Zubaan</td>\n",
       "      <td>International Movies</td>\n",
       "    </tr>\n",
       "    <tr>\n",
       "      <th>19322</th>\n",
       "      <td>Zubaan</td>\n",
       "      <td>Music &amp; Musicals</td>\n",
       "    </tr>\n",
       "  </tbody>\n",
       "</table>\n",
       "<p>19323 rows × 2 columns</p>\n",
       "</div>"
      ],
      "text/plain": [
       "                      title                 listed_in\n",
       "0      Dick Johnson Is Dead             Documentaries\n",
       "1             Blood & Water    International TV Shows\n",
       "2             Blood & Water                 TV Dramas\n",
       "3             Blood & Water              TV Mysteries\n",
       "4                 Ganglands            Crime TV Shows\n",
       "...                     ...                       ...\n",
       "19318                  Zoom  Children & Family Movies\n",
       "19319                  Zoom                  Comedies\n",
       "19320                Zubaan                    Dramas\n",
       "19321                Zubaan      International Movies\n",
       "19322                Zubaan          Music & Musicals\n",
       "\n",
       "[19323 rows x 2 columns]"
      ]
     },
     "execution_count": 42,
     "metadata": {},
     "output_type": "execute_result"
    }
   ],
   "source": [
    "constraint = df['listed_in'].apply(lambda x: str(x).split(', ')).tolist()\n",
    "df_listed_in = pd.DataFrame(constraint, index = df['title'])\n",
    "df_listed_in = df_listed_in.stack()\n",
    "df_listed_in = pd.DataFrame(df_listed_in)\n",
    "df_listed_in.reset_index(inplace = True)\n",
    "df_listed_in = df_listed_in[['title', 0]]\n",
    "df_listed_in.columns = ['title','listed_in']\n",
    "df_listed_in"
   ]
  },
  {
   "cell_type": "code",
   "execution_count": 43,
   "id": "9a313f60",
   "metadata": {},
   "outputs": [
    {
     "data": {
      "text/html": [
       "<div>\n",
       "<style scoped>\n",
       "    .dataframe tbody tr th:only-of-type {\n",
       "        vertical-align: middle;\n",
       "    }\n",
       "\n",
       "    .dataframe tbody tr th {\n",
       "        vertical-align: top;\n",
       "    }\n",
       "\n",
       "    .dataframe thead th {\n",
       "        text-align: right;\n",
       "    }\n",
       "</style>\n",
       "<table border=\"1\" class=\"dataframe\">\n",
       "  <thead>\n",
       "    <tr style=\"text-align: right;\">\n",
       "      <th></th>\n",
       "      <th>show_id</th>\n",
       "      <th>type</th>\n",
       "      <th>title</th>\n",
       "      <th>director_x</th>\n",
       "      <th>cast_x</th>\n",
       "      <th>country_x</th>\n",
       "      <th>date_added</th>\n",
       "      <th>release_year</th>\n",
       "      <th>rating</th>\n",
       "      <th>duration</th>\n",
       "      <th>listed_in_x</th>\n",
       "      <th>description</th>\n",
       "      <th>director_y</th>\n",
       "      <th>country_y</th>\n",
       "      <th>cast_y</th>\n",
       "      <th>listed_in_y</th>\n",
       "    </tr>\n",
       "  </thead>\n",
       "  <tbody>\n",
       "    <tr>\n",
       "      <th>0</th>\n",
       "      <td>s1</td>\n",
       "      <td>Movie</td>\n",
       "      <td>Dick Johnson Is Dead</td>\n",
       "      <td>Kirsten Johnson</td>\n",
       "      <td>NaN</td>\n",
       "      <td>United States</td>\n",
       "      <td>September 25, 2021</td>\n",
       "      <td>2020</td>\n",
       "      <td>PG-13</td>\n",
       "      <td>90 min</td>\n",
       "      <td>Documentaries</td>\n",
       "      <td>As her father nears the end of his life, filmm...</td>\n",
       "      <td>Kirsten Johnson</td>\n",
       "      <td>United States</td>\n",
       "      <td>nan</td>\n",
       "      <td>Documentaries</td>\n",
       "    </tr>\n",
       "    <tr>\n",
       "      <th>1</th>\n",
       "      <td>s2</td>\n",
       "      <td>TV Show</td>\n",
       "      <td>Blood &amp; Water</td>\n",
       "      <td>NaN</td>\n",
       "      <td>Ama Qamata, Khosi Ngema, Gail Mabalane, Thaban...</td>\n",
       "      <td>South Africa</td>\n",
       "      <td>September 24, 2021</td>\n",
       "      <td>2021</td>\n",
       "      <td>TV-MA</td>\n",
       "      <td>2 Seasons</td>\n",
       "      <td>International TV Shows, TV Dramas, TV Mysteries</td>\n",
       "      <td>After crossing paths at a party, a Cape Town t...</td>\n",
       "      <td>nan</td>\n",
       "      <td>South Africa</td>\n",
       "      <td>Ama Qamata</td>\n",
       "      <td>International TV Shows</td>\n",
       "    </tr>\n",
       "    <tr>\n",
       "      <th>2</th>\n",
       "      <td>s2</td>\n",
       "      <td>TV Show</td>\n",
       "      <td>Blood &amp; Water</td>\n",
       "      <td>NaN</td>\n",
       "      <td>Ama Qamata, Khosi Ngema, Gail Mabalane, Thaban...</td>\n",
       "      <td>South Africa</td>\n",
       "      <td>September 24, 2021</td>\n",
       "      <td>2021</td>\n",
       "      <td>TV-MA</td>\n",
       "      <td>2 Seasons</td>\n",
       "      <td>International TV Shows, TV Dramas, TV Mysteries</td>\n",
       "      <td>After crossing paths at a party, a Cape Town t...</td>\n",
       "      <td>nan</td>\n",
       "      <td>South Africa</td>\n",
       "      <td>Ama Qamata</td>\n",
       "      <td>TV Dramas</td>\n",
       "    </tr>\n",
       "    <tr>\n",
       "      <th>3</th>\n",
       "      <td>s2</td>\n",
       "      <td>TV Show</td>\n",
       "      <td>Blood &amp; Water</td>\n",
       "      <td>NaN</td>\n",
       "      <td>Ama Qamata, Khosi Ngema, Gail Mabalane, Thaban...</td>\n",
       "      <td>South Africa</td>\n",
       "      <td>September 24, 2021</td>\n",
       "      <td>2021</td>\n",
       "      <td>TV-MA</td>\n",
       "      <td>2 Seasons</td>\n",
       "      <td>International TV Shows, TV Dramas, TV Mysteries</td>\n",
       "      <td>After crossing paths at a party, a Cape Town t...</td>\n",
       "      <td>nan</td>\n",
       "      <td>South Africa</td>\n",
       "      <td>Ama Qamata</td>\n",
       "      <td>TV Mysteries</td>\n",
       "    </tr>\n",
       "    <tr>\n",
       "      <th>4</th>\n",
       "      <td>s2</td>\n",
       "      <td>TV Show</td>\n",
       "      <td>Blood &amp; Water</td>\n",
       "      <td>NaN</td>\n",
       "      <td>Ama Qamata, Khosi Ngema, Gail Mabalane, Thaban...</td>\n",
       "      <td>South Africa</td>\n",
       "      <td>September 24, 2021</td>\n",
       "      <td>2021</td>\n",
       "      <td>TV-MA</td>\n",
       "      <td>2 Seasons</td>\n",
       "      <td>International TV Shows, TV Dramas, TV Mysteries</td>\n",
       "      <td>After crossing paths at a party, a Cape Town t...</td>\n",
       "      <td>nan</td>\n",
       "      <td>South Africa</td>\n",
       "      <td>Khosi Ngema</td>\n",
       "      <td>International TV Shows</td>\n",
       "    </tr>\n",
       "    <tr>\n",
       "      <th>...</th>\n",
       "      <td>...</td>\n",
       "      <td>...</td>\n",
       "      <td>...</td>\n",
       "      <td>...</td>\n",
       "      <td>...</td>\n",
       "      <td>...</td>\n",
       "      <td>...</td>\n",
       "      <td>...</td>\n",
       "      <td>...</td>\n",
       "      <td>...</td>\n",
       "      <td>...</td>\n",
       "      <td>...</td>\n",
       "      <td>...</td>\n",
       "      <td>...</td>\n",
       "      <td>...</td>\n",
       "      <td>...</td>\n",
       "    </tr>\n",
       "    <tr>\n",
       "      <th>201986</th>\n",
       "      <td>s8807</td>\n",
       "      <td>Movie</td>\n",
       "      <td>Zubaan</td>\n",
       "      <td>Mozez Singh</td>\n",
       "      <td>Vicky Kaushal, Sarah-Jane Dias, Raaghav Chanan...</td>\n",
       "      <td>India</td>\n",
       "      <td>March 2, 2019</td>\n",
       "      <td>2015</td>\n",
       "      <td>TV-14</td>\n",
       "      <td>111 min</td>\n",
       "      <td>Dramas, International Movies, Music &amp; Musicals</td>\n",
       "      <td>A scrappy but poor boy worms his way into a ty...</td>\n",
       "      <td>Mozez Singh</td>\n",
       "      <td>India</td>\n",
       "      <td>Anita Shabdish</td>\n",
       "      <td>International Movies</td>\n",
       "    </tr>\n",
       "    <tr>\n",
       "      <th>201987</th>\n",
       "      <td>s8807</td>\n",
       "      <td>Movie</td>\n",
       "      <td>Zubaan</td>\n",
       "      <td>Mozez Singh</td>\n",
       "      <td>Vicky Kaushal, Sarah-Jane Dias, Raaghav Chanan...</td>\n",
       "      <td>India</td>\n",
       "      <td>March 2, 2019</td>\n",
       "      <td>2015</td>\n",
       "      <td>TV-14</td>\n",
       "      <td>111 min</td>\n",
       "      <td>Dramas, International Movies, Music &amp; Musicals</td>\n",
       "      <td>A scrappy but poor boy worms his way into a ty...</td>\n",
       "      <td>Mozez Singh</td>\n",
       "      <td>India</td>\n",
       "      <td>Anita Shabdish</td>\n",
       "      <td>Music &amp; Musicals</td>\n",
       "    </tr>\n",
       "    <tr>\n",
       "      <th>201988</th>\n",
       "      <td>s8807</td>\n",
       "      <td>Movie</td>\n",
       "      <td>Zubaan</td>\n",
       "      <td>Mozez Singh</td>\n",
       "      <td>Vicky Kaushal, Sarah-Jane Dias, Raaghav Chanan...</td>\n",
       "      <td>India</td>\n",
       "      <td>March 2, 2019</td>\n",
       "      <td>2015</td>\n",
       "      <td>TV-14</td>\n",
       "      <td>111 min</td>\n",
       "      <td>Dramas, International Movies, Music &amp; Musicals</td>\n",
       "      <td>A scrappy but poor boy worms his way into a ty...</td>\n",
       "      <td>Mozez Singh</td>\n",
       "      <td>India</td>\n",
       "      <td>Chittaranjan Tripathy</td>\n",
       "      <td>Dramas</td>\n",
       "    </tr>\n",
       "    <tr>\n",
       "      <th>201989</th>\n",
       "      <td>s8807</td>\n",
       "      <td>Movie</td>\n",
       "      <td>Zubaan</td>\n",
       "      <td>Mozez Singh</td>\n",
       "      <td>Vicky Kaushal, Sarah-Jane Dias, Raaghav Chanan...</td>\n",
       "      <td>India</td>\n",
       "      <td>March 2, 2019</td>\n",
       "      <td>2015</td>\n",
       "      <td>TV-14</td>\n",
       "      <td>111 min</td>\n",
       "      <td>Dramas, International Movies, Music &amp; Musicals</td>\n",
       "      <td>A scrappy but poor boy worms his way into a ty...</td>\n",
       "      <td>Mozez Singh</td>\n",
       "      <td>India</td>\n",
       "      <td>Chittaranjan Tripathy</td>\n",
       "      <td>International Movies</td>\n",
       "    </tr>\n",
       "    <tr>\n",
       "      <th>201990</th>\n",
       "      <td>s8807</td>\n",
       "      <td>Movie</td>\n",
       "      <td>Zubaan</td>\n",
       "      <td>Mozez Singh</td>\n",
       "      <td>Vicky Kaushal, Sarah-Jane Dias, Raaghav Chanan...</td>\n",
       "      <td>India</td>\n",
       "      <td>March 2, 2019</td>\n",
       "      <td>2015</td>\n",
       "      <td>TV-14</td>\n",
       "      <td>111 min</td>\n",
       "      <td>Dramas, International Movies, Music &amp; Musicals</td>\n",
       "      <td>A scrappy but poor boy worms his way into a ty...</td>\n",
       "      <td>Mozez Singh</td>\n",
       "      <td>India</td>\n",
       "      <td>Chittaranjan Tripathy</td>\n",
       "      <td>Music &amp; Musicals</td>\n",
       "    </tr>\n",
       "  </tbody>\n",
       "</table>\n",
       "<p>201991 rows × 16 columns</p>\n",
       "</div>"
      ],
      "text/plain": [
       "       show_id     type                 title       director_x  \\\n",
       "0           s1    Movie  Dick Johnson Is Dead  Kirsten Johnson   \n",
       "1           s2  TV Show         Blood & Water              NaN   \n",
       "2           s2  TV Show         Blood & Water              NaN   \n",
       "3           s2  TV Show         Blood & Water              NaN   \n",
       "4           s2  TV Show         Blood & Water              NaN   \n",
       "...        ...      ...                   ...              ...   \n",
       "201986   s8807    Movie                Zubaan      Mozez Singh   \n",
       "201987   s8807    Movie                Zubaan      Mozez Singh   \n",
       "201988   s8807    Movie                Zubaan      Mozez Singh   \n",
       "201989   s8807    Movie                Zubaan      Mozez Singh   \n",
       "201990   s8807    Movie                Zubaan      Mozez Singh   \n",
       "\n",
       "                                                   cast_x      country_x  \\\n",
       "0                                                     NaN  United States   \n",
       "1       Ama Qamata, Khosi Ngema, Gail Mabalane, Thaban...   South Africa   \n",
       "2       Ama Qamata, Khosi Ngema, Gail Mabalane, Thaban...   South Africa   \n",
       "3       Ama Qamata, Khosi Ngema, Gail Mabalane, Thaban...   South Africa   \n",
       "4       Ama Qamata, Khosi Ngema, Gail Mabalane, Thaban...   South Africa   \n",
       "...                                                   ...            ...   \n",
       "201986  Vicky Kaushal, Sarah-Jane Dias, Raaghav Chanan...          India   \n",
       "201987  Vicky Kaushal, Sarah-Jane Dias, Raaghav Chanan...          India   \n",
       "201988  Vicky Kaushal, Sarah-Jane Dias, Raaghav Chanan...          India   \n",
       "201989  Vicky Kaushal, Sarah-Jane Dias, Raaghav Chanan...          India   \n",
       "201990  Vicky Kaushal, Sarah-Jane Dias, Raaghav Chanan...          India   \n",
       "\n",
       "                date_added  release_year rating   duration  \\\n",
       "0       September 25, 2021          2020  PG-13     90 min   \n",
       "1       September 24, 2021          2021  TV-MA  2 Seasons   \n",
       "2       September 24, 2021          2021  TV-MA  2 Seasons   \n",
       "3       September 24, 2021          2021  TV-MA  2 Seasons   \n",
       "4       September 24, 2021          2021  TV-MA  2 Seasons   \n",
       "...                    ...           ...    ...        ...   \n",
       "201986       March 2, 2019          2015  TV-14    111 min   \n",
       "201987       March 2, 2019          2015  TV-14    111 min   \n",
       "201988       March 2, 2019          2015  TV-14    111 min   \n",
       "201989       March 2, 2019          2015  TV-14    111 min   \n",
       "201990       March 2, 2019          2015  TV-14    111 min   \n",
       "\n",
       "                                            listed_in_x  \\\n",
       "0                                         Documentaries   \n",
       "1       International TV Shows, TV Dramas, TV Mysteries   \n",
       "2       International TV Shows, TV Dramas, TV Mysteries   \n",
       "3       International TV Shows, TV Dramas, TV Mysteries   \n",
       "4       International TV Shows, TV Dramas, TV Mysteries   \n",
       "...                                                 ...   \n",
       "201986   Dramas, International Movies, Music & Musicals   \n",
       "201987   Dramas, International Movies, Music & Musicals   \n",
       "201988   Dramas, International Movies, Music & Musicals   \n",
       "201989   Dramas, International Movies, Music & Musicals   \n",
       "201990   Dramas, International Movies, Music & Musicals   \n",
       "\n",
       "                                              description       director_y  \\\n",
       "0       As her father nears the end of his life, filmm...  Kirsten Johnson   \n",
       "1       After crossing paths at a party, a Cape Town t...              nan   \n",
       "2       After crossing paths at a party, a Cape Town t...              nan   \n",
       "3       After crossing paths at a party, a Cape Town t...              nan   \n",
       "4       After crossing paths at a party, a Cape Town t...              nan   \n",
       "...                                                   ...              ...   \n",
       "201986  A scrappy but poor boy worms his way into a ty...      Mozez Singh   \n",
       "201987  A scrappy but poor boy worms his way into a ty...      Mozez Singh   \n",
       "201988  A scrappy but poor boy worms his way into a ty...      Mozez Singh   \n",
       "201989  A scrappy but poor boy worms his way into a ty...      Mozez Singh   \n",
       "201990  A scrappy but poor boy worms his way into a ty...      Mozez Singh   \n",
       "\n",
       "            country_y                 cast_y             listed_in_y  \n",
       "0       United States                    nan           Documentaries  \n",
       "1        South Africa             Ama Qamata  International TV Shows  \n",
       "2        South Africa             Ama Qamata               TV Dramas  \n",
       "3        South Africa             Ama Qamata            TV Mysteries  \n",
       "4        South Africa            Khosi Ngema  International TV Shows  \n",
       "...               ...                    ...                     ...  \n",
       "201986          India         Anita Shabdish    International Movies  \n",
       "201987          India         Anita Shabdish        Music & Musicals  \n",
       "201988          India  Chittaranjan Tripathy                  Dramas  \n",
       "201989          India  Chittaranjan Tripathy    International Movies  \n",
       "201990          India  Chittaranjan Tripathy        Music & Musicals  \n",
       "\n",
       "[201991 rows x 16 columns]"
      ]
     },
     "execution_count": 43,
     "metadata": {},
     "output_type": "execute_result"
    }
   ],
   "source": [
    "df_director_country = df_director.merge(df_country, on = \"title\", how = \"inner\")\n",
    "df_director_country_cast = df_director_country.merge(df_cast, on = \"title\", how = \"inner\")\n",
    "df_director_country_cast_listed_in = df_director_country_cast.merge(df_listed_in, on = \"title\", how = \"inner\")\n",
    "df_original = df.merge(df_director_country_cast_listed_in, on = \"title\", how = \"inner\")\n",
    "df_original"
   ]
  },
  {
   "cell_type": "code",
   "execution_count": 44,
   "id": "99fd3afd",
   "metadata": {},
   "outputs": [],
   "source": [
    "# Replace NaN values in the 'cast' column with the mode of that column\n",
    "df_original['cast_x'].fillna(df_original['cast_x'].mode()[0], inplace = True)\n",
    "\n",
    "# Replace NaN values in the 'director' column with the mode of that column\n",
    "df_original['director_x'].fillna(df_original['director_x'].mode()[0], inplace = True)\n",
    "\n",
    "# Replace NaN values in the 'country' column with the mode of that column\n",
    "df_original['country_x'].fillna(df_original['country_x'].mode()[0], inplace = True)\n",
    "\n",
    "# Replace NaN values in the 'date_added' column with the mode of that column\n",
    "df_original['date_added'].fillna(df_original['date_added'].mode()[0], inplace = True)\n",
    "\n",
    "# Replace NaN values in the 'rating' column with the mode of that column\n",
    "df_original['rating'].fillna(df_original['rating'].mode()[0], inplace = True)\n",
    "\n",
    "# Replace NaN values in the 'duration' column with the mode of that column\n",
    "df_original['duration'].fillna(df_original['duration'].mode()[0], inplace = True)"
   ]
  },
  {
   "cell_type": "code",
   "execution_count": 45,
   "id": "3e5c0f01",
   "metadata": {},
   "outputs": [
    {
     "data": {
      "text/plain": [
       "show_id         0\n",
       "type            0\n",
       "title           0\n",
       "director_x      0\n",
       "cast_x          0\n",
       "country_x       0\n",
       "date_added      0\n",
       "release_year    0\n",
       "rating          0\n",
       "duration        0\n",
       "listed_in_x     0\n",
       "description     0\n",
       "director_y      0\n",
       "country_y       0\n",
       "cast_y          0\n",
       "listed_in_y     0\n",
       "dtype: int64"
      ]
     },
     "execution_count": 45,
     "metadata": {},
     "output_type": "execute_result"
    }
   ],
   "source": [
    "df_original.isnull().sum()"
   ]
  },
  {
   "cell_type": "code",
   "execution_count": 46,
   "id": "099aa1ec",
   "metadata": {},
   "outputs": [
    {
     "name": "stdout",
     "output_type": "stream",
     "text": [
      "<class 'pandas.core.frame.DataFrame'>\n",
      "Int64Index: 201991 entries, 0 to 201990\n",
      "Data columns (total 16 columns):\n",
      " #   Column        Non-Null Count   Dtype \n",
      "---  ------        --------------   ----- \n",
      " 0   show_id       201991 non-null  object\n",
      " 1   type          201991 non-null  object\n",
      " 2   title         201991 non-null  object\n",
      " 3   director_x    201991 non-null  object\n",
      " 4   cast_x        201991 non-null  object\n",
      " 5   country_x     201991 non-null  object\n",
      " 6   date_added    201991 non-null  object\n",
      " 7   release_year  201991 non-null  int64 \n",
      " 8   rating        201991 non-null  object\n",
      " 9   duration      201991 non-null  object\n",
      " 10  listed_in_x   201991 non-null  object\n",
      " 11  description   201991 non-null  object\n",
      " 12  director_y    201991 non-null  object\n",
      " 13  country_y     201991 non-null  object\n",
      " 14  cast_y        201991 non-null  object\n",
      " 15  listed_in_y   201991 non-null  object\n",
      "dtypes: int64(1), object(15)\n",
      "memory usage: 26.2+ MB\n"
     ]
    }
   ],
   "source": [
    "df_original.info()"
   ]
  },
  {
   "cell_type": "code",
   "execution_count": 47,
   "id": "1618cbf6",
   "metadata": {},
   "outputs": [
    {
     "name": "stdout",
     "output_type": "stream",
     "text": [
      "cast_y\n",
      "nan                 825\n",
      "Anupam Kher          43\n",
      "Shah Rukh Khan       35\n",
      "Julie Tejwani        33\n",
      "Naseeruddin Shah     32\n",
      "                   ... \n",
      "Jamie Lee             1\n",
      "Jamie Kenna           1\n",
      "Jamie Kaler           1\n",
      "Jamie Johnston        1\n",
      "Ṣọpẹ́ Dìrísù          1\n",
      "Name: title, Length: 36440, dtype: int64\n"
     ]
    }
   ],
   "source": [
    "# Group by \"cast_y\" and count the unique titles for each group\n",
    "cast_title_counts = df_original.groupby([\"cast_y\"])[\"title\"].nunique()\n",
    "\n",
    "# Sort the values in descending order\n",
    "cast_title_counts_sorted = cast_title_counts.sort_values(ascending=False)\n",
    "\n",
    "# Print the sorted values\n",
    "print(cast_title_counts_sorted)"
   ]
  },
  {
   "cell_type": "code",
   "execution_count": 48,
   "id": "03e925bb",
   "metadata": {},
   "outputs": [
    {
     "name": "stdout",
     "output_type": "stream",
     "text": [
      "Best Actor-Director Pair based on Number of Collaborations:\n",
      "director_y  cast_y            \n",
      "nan         nan                   738\n",
      "            David Attenborough     72\n",
      "            Takahiro Sakurai       54\n",
      "            Yuki Kaji              43\n",
      "            Yuichi Nakamura        38\n",
      "Name: title, dtype: int64\n"
     ]
    }
   ],
   "source": [
    "# Group by actor and director pairs and count the number of collaborations\n",
    "actor_director_collaborations = df_original.groupby(['director_y', 'cast_y'])['title'].count()\n",
    "\n",
    "# Sort in descending order to find the best pair\n",
    "best_actor_director_pair = actor_director_collaborations.sort_values(ascending=False).head(5)\n",
    "\n",
    "print(\"Best Actor-Director Pair based on Number of Collaborations:\")\n",
    "print(best_actor_director_pair)"
   ]
  },
  {
   "cell_type": "code",
   "execution_count": 53,
   "id": "c00f33a3",
   "metadata": {},
   "outputs": [
    {
     "data": {
      "image/png": "[encoded data removed]",
      "text/plain": [
       "<Figure size 1200x600 with 1 Axes>"
      ]
     },
     "metadata": {},
     "output_type": "display_data"
    },
    {
     "data": {
      "image/png": "[encoded data removed]",
      "text/plain": [
       "<Figure size 1200x600 with 1 Axes>"
      ]
     },
     "metadata": {},
     "output_type": "display_data"
    }
   ],
   "source": [
    "# Countplot for Release Year\n",
    "plt.figure(figsize=(12, 6))\n",
    "sns.countplot(data=df, x='release_year')\n",
    "plt.title('Count of Titles by Release Year')\n",
    "plt.xlabel('Release Year')\n",
    "plt.ylabel('Count')\n",
    "plt.xticks(rotation=90)\n",
    "plt.show()\n",
    "\n",
    "# Histogram for Release Year\n",
    "plt.figure(figsize=(12, 6))\n",
    "plt.hist(df['release_year'], bins=20, edgecolor='k')\n",
    "plt.title('Histogram of Release Year')\n",
    "plt.xlabel('Release Year')\n",
    "plt.ylabel('Frequency')\n",
    "plt.show()\n"
   ]
  },
  {
   "cell_type": "code",
   "execution_count": 54,
   "id": "15175634",
   "metadata": {},
   "outputs": [
    {
     "data": {
      "image/png": "[encoded data removed]",
      "text/plain": [
       "<Figure size 1200x600 with 1 Axes>"
      ]
     },
     "metadata": {},
     "output_type": "display_data"
    },
    {
     "name": "stdout",
     "output_type": "stream",
     "text": [
      "Missing Values Count:\n",
      "show_id            0\n",
      "type               0\n",
      "title              0\n",
      "director        5884\n",
      "cast            1504\n",
      "country         1722\n",
      "date_added        20\n",
      "release_year       0\n",
      "rating             6\n",
      "duration           3\n",
      "listed_in          0\n",
      "description        0\n",
      "Date_added        20\n",
      "Month             20\n",
      "Week              20\n",
      "dtype: int64\n"
     ]
    }
   ],
   "source": [
    "# Check for missing values\n",
    "missing_values = df.isnull().sum()\n",
    "\n",
    "# Visualize missing values using a heatmap\n",
    "plt.figure(figsize=(12, 6))\n",
    "sns.heatmap(df.isnull(), cbar=False, cmap='viridis')\n",
    "plt.title('Missing Values Heatmap')\n",
    "plt.show()\n",
    "\n",
    "# Print the count of missing values for each column\n",
    "print(\"Missing Values Count:\")\n",
    "print(missing_values)"
   ]
  },
  {
   "cell_type": "code",
   "execution_count": 55,
   "id": "5588e4f4",
   "metadata": {},
   "outputs": [
    {
     "data": {
      "image/png": "[encoded data removed]",
      "text/plain": [
       "<Figure size 1200x600 with 1 Axes>"
      ]
     },
     "metadata": {},
     "output_type": "display_data"
    }
   ],
   "source": [
    "# Box plots for continuous variables\n",
    "plt.figure(figsize=(12, 6))\n",
    "sns.boxplot(data=df[['release_year', 'duration']], orient='h')\n",
    "plt.title('Box Plots for Continuous Variables')\n",
    "plt.show()\n",
    "\n",
    "\n"
   ]
  },
  {
   "cell_type": "markdown",
   "id": "9edace95",
   "metadata": {},
   "source": [
    "# <u>Business Insights:</u>\n",
    "\n",
    "**In the analysis of the dataset, several patterns and insights have been observed:**\n",
    "\n",
    "### <u>Release Year Trends:</u>\n",
    "Over the years, the number of movies and TV shows added to Netflix has seen a substantial increase. This indicates a growing content library and a significant investment in the platform's offerings. We can see, **That in year 2020 most of our content was added on our platform.** This has been demonstated with non-graphical analysis and creating visualization on cell numbers - 31 and 32. \n",
    "\n",
    "### <u>Content Types:</u> \n",
    "The dataset includes both movies and TV shows, and it's clear that movies dominate in terms of the number of titles available. This could suggest that movies are more popular or are easier to produce than TV shows. We can see,**There are 6131 movies and 2676 TV Shows on our platform, and in terms of percentages, we have 69.6% Movies and 30.4% TV Shows.** This has been demonstated with non-graphical analysis and creating visualization on cell numbers - 21 and 22.\n",
    "\n",
    "### <u>Consumption of content country-wise:</u> \n",
    "There is a diverse set of countries listed as the consumers for content on Netflix. This demonstrates Netflix's commitment to offering content from around the world and catering to a global audience. We have identified,**Top 10 Content Consuming Countries, and we can see that \"United States\" is the top consumer of our content with 3689 titles consumed in the country.** This has been demonstated with non-graphical analysis and creating visualization on cell numbers - 28 and 29.\n",
    "\n",
    "### <u>Content Duration:</u> \n",
    "While movies have specific durations in minutes, TV shows often have the number of seasons listed. This highlights the different formats of content available on Netflix. We have identified, **Top 10 durations of our content, and we can see that \"1 season TV Shows\" is the most common content on our platform.** This has been demonstated with non-graphical analysis and creating visualization on cell numbers - 35 and 36.\n",
    "\n",
    "### <u>Ratings:</u> \n",
    "The dataset includes TV ratings, which can help users make informed decisions about the content they want to watch. We have identified, **Top 10 Ratings of content,** and we can see that **\"TV-MA\" is the most common rating given to content on our platform with 3207 titles given this rating.** This has been demonstated with non-graphical analysis and creating visualization on cell numbers - 17, 33 and 34.\n",
    "\n",
    "\n",
    "### <u>Top 10 Directors:</u> \n",
    "We have identified the directors who have directed the most movies and TV shows on Netflix. This can help you understand which directors are in high demand and may have a strong fan following. \n",
    "\n",
    "### <u>Top 10 Countries:</u> \n",
    "We have identified Top 10 Content Consuming Countries, and we can see that \"United States\" is the top consumer of our content with 3689 titles consumed in the country.\n",
    "\n",
    "### <u>Top 10 Release Years:</u> \n",
    "We have identified release year trends and determined which release years are the most represented in the top 10. Are there certain years that saw a significant number of releases? YES -- We have identified that in year 2020 most of our content was added to our platform.\n",
    "\n",
    "### <u>Top 10 Artists (Cast):</u> \n",
    "We have identified the actors who have appeared in the most movies and TV shows on Netflix. This can help you understand which actors are in high demand and may have a strong fan following. \n",
    "\n",
    "### <u>Top 10 Ratings (Cast):</u> \n",
    "We have identified Top 10 ratings of our content, and we can see that \"1 season TV Shows\" is the most common content on our platform.\n",
    "\n",
    "### <u>Top 10 Genres:</u> \n",
    "We have identified the most frequently occurring genres among the top 10. This can help you understand which genres are preferred by viewers.\n",
    "\n",
    "### <u>Best Week and Month to Launch a TV Show and a Movie:</u>\n",
    "We find that the best week to launch a TV Show on our platform was <u>27th week.</u><br>\n",
    "We find that the best week to launch a Movie on our platform was <u>1st week.</u><br>\n",
    "We find that the best month to launch a TV Show on our platform was <u>December.</u><br>\n",
    "We find that the best month to launch a Movie on our platform was <u>July.</u>\n",
    "\n",
    "### <u>Missing values detection:</u>\n",
    "We have identified missing values in our data and have employed techniques to handle this missing data. Before pre-processing data, we have the missing values data which is clearly shown both graphically and non-graphically on cell number - 54."
   ]
  },
  {
   "cell_type": "markdown",
   "id": "88991136",
   "metadata": {},
   "source": [
    "# <u>Recommendations:</u>\n",
    "\n",
    "**Based on the insights obtained, here are some actionable recommendations for businesses:**\n",
    "\n",
    "### <u>Content Diversity:</u> \n",
    "Netflix should continue to produce a diverse range of content, including both movies and TV shows, as the data shows that both types have their audience. This diversification can help cater to a broader viewer base.\n",
    "\n",
    "### <u>Focus on Movies:</u> \n",
    "While movies dominate the platform, continue to invest in high-quality movies to maintain and expand the movie library. We should consider user preferences and genres that have been successful in the past.\n",
    "\n",
    "### <u>Global Expansion:</u> \n",
    "The analysis reveals that Netflix offers content from various countries and has global presence. Netflix should continue to invest in producing content from different countries to cater to a global audience. Localized content can attract more subscribers in specific regions.\n",
    "\n",
    "### <u>Understanding Viewer Preferences:</u> \n",
    "We analyzed viewer ratings and preferences for different genres (as indicated by the \"Listed_in\" column).  We have identified Top 10 Ratings of content, and we can see that \"TV-MA\" is the most common rating given to content on our platform with 3207 titles given this rating. This information can guide the production of content that aligns with viewer interests.\n",
    "\n",
    "### <u>Timing Matters:</u> \n",
    "The data can be used to determine the best time to launch TV shows. Analyzing viewer behavior and preferences by release year can help Netflix optimize their content release schedules. We found that the best week to launch a TV Show on our platform was 27th week and best week to launch a movie was 1st week. We also found that the best month to launch a TV Show on our platform was December and best month to launch a movie was July.\n",
    "\n",
    "### <u>User Feedback:</u> \n",
    "We can implement mechanisms for users to provide feedback and suggestions on the platform. Analyzing user comments and reviews can help in tailoring content to user expectations.\n",
    "\n",
    "### <u>Content Duration:</u> \n",
    "We can ensure that TV shows and movies both are produced equally and are tagged correctly with their respective durations. Clear and consistent information helps users in making selections.\n",
    "\n",
    "### <u>Recognizing Successful Actors/Directors:</u> \n",
    "We have identified actors and directors who have consistently been part of successful content, which we have given in insights section. We should collaborate with these professionals more frequently as they have a track record of attracting viewers.\n",
    "\n",
    "### <u>Tailored Marketing:</u> \n",
    "We can use data to create personalized content recommendations for individual users. This can increase engagement and retention on our platform.\n",
    "\n",
    "### <u>A/B Testing:</u> \n",
    "We must conduct A/B testing of content to understand which types of shows or movies perform better. This can help refine content strategies and optimize investments.\n",
    "\n",
    "### <u>Balanced Investment:</u> \n",
    "We can maintain a balanced investment in both original content and licensed content. Licensing popular titles can attract new subscribers while original content can retain existing ones.\n",
    "\n",
    "### <u>Viewer Retention:</u> \n",
    "We need to pay attention to data on viewer churn rates. Understand why subscribers leave the platform and take steps to improve retention, such as producing content that appeals to a wider audience.\n",
    "\n",
    "### <u>Data-Driven Decision-Making:</u> \n",
    "We encourage data-driven decisions in the production and content acquisition process. We must regularly analyze user data to understand changing viewer preferences and trends.\n",
    "\n",
    "### These recommendations are focused on content diversity, quality, and user guidance. They aim to help Netflix maintain its position as a leading streaming platform and provide users with a wide range of entertainment choices."
   ]
  }
 ],
 "metadata": {
  "kernelspec": {
   "display_name": "Python 3 (ipykernel)",
   "language": "python",
   "name": "python3"
  },
  "language_info": {
   "codemirror_mode": {
    "name": "ipython",
    "version": 3
   },
   "file_extension": ".py",
   "mimetype": "text/x-python",
   "name": "python",
   "nbconvert_exporter": "python",
   "pygments_lexer": "ipython3",
   "version": "3.11.3"
  }
 },
 "nbformat": 4,
 "nbformat_minor": 5
}
